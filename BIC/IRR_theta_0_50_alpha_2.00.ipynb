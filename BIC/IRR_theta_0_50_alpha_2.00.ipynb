{
  "cells": [
    {
      "cell_type": "code",
      "execution_count": 2,
      "id": "90a42f82-5981-4236-85c2-db2be1c59143",
      "metadata": {
        "id": "90a42f82-5981-4236-85c2-db2be1c59143"
      },
      "outputs": [],
      "source": [
        "import numpy as np\n",
        "\n",
        "import torch\n",
        "from torch import nn, optim\n",
        "import torch.nn.functional as F\n",
        "\n",
        "import matplotlib.pyplot as plt\n",
        "\n",
        "torch.set_printoptions(sci_mode = False, precision = 4)"
      ]
    },
    {
      "cell_type": "code",
      "execution_count": 3,
      "id": "18a2722d-fb74-4b97-a8b6-e8f3bbc1fe26",
      "metadata": {
        "id": "18a2722d-fb74-4b97-a8b6-e8f3bbc1fe26"
      },
      "outputs": [],
      "source": [
        "# Hyperparameters\n",
        "class HParams:\n",
        "    def __init__(self):\n",
        "        \n",
        "        # Problem params\n",
        "        self.num_agents = 2\n",
        "        self.num_states = 2\n",
        "        self.num_signals = 2\n",
        "        \n",
        "        self.theta = np.array([0.5, 0.5])\n",
        "        self.alpha = 2.0\n",
        "        \n",
        "        # Minibatch size\n",
        "        self.batch_size = 128\n",
        "        \n",
        "        # Number of samples for computing interim vals\n",
        "        self.num_samples = 512\n",
        "        \n",
        "        # Number of layer\n",
        "        self.R = 3\n",
        "        # Number of hidden units\n",
        "        self.K = 200\n",
        "        \n",
        "        # Data - Choose among exp, uniform, asym_uniform, irregular\n",
        "        self.distr_type = \"irregular\"\n",
        "        \n",
        "        # Opt params\n",
        "        self.lr = 5e-4\n",
        "        \n",
        "        self.gd_lr = 5e-3\n",
        "        self.gd_iter = 8\n",
        "        \n",
        "        # Lagrangian params\n",
        "        \n",
        "        self.lag_ob_init = 2\n",
        "        self.lag_ir_init = 2\n",
        "        self.lag_ic_init = 2\n",
        "        \n",
        "        self.lag_up_iter = 350\n",
        "        \n",
        "        self.pho_init = 5\n",
        "        \n",
        "        self.pho_increment = 5\n",
        "        self.pho_up_iter = 350\n",
        "        \n",
        "        # Miscellaneous\n",
        "        self.seed = 0\n",
        "                  \n",
        "        self.max_iter = 100000 \n",
        "        self.print_iter = 1000\n",
        "                \n",
        "# Initialize config\n",
        "cfg = HParams()\n",
        "np.random.seed(cfg.seed)\n",
        "\n",
        "# Asserts\n",
        "assert(cfg.num_agents == 2)\n",
        "device = \"cuda\"\n",
        "\n",
        "np.random.seed(cfg.seed)"
      ]
    },
    {
      "cell_type": "code",
      "execution_count": 4,
      "id": "43976218-80e7-4f72-a617-230515a16c5a",
      "metadata": {
        "id": "43976218-80e7-4f72-a617-230515a16c5a"
      },
      "outputs": [],
      "source": [
        "def sampler_exp(idx, batch_size):\n",
        "    return np.random.exponential(scale = 1.0, size = (batch_size))\n",
        "\n",
        "def sampler_uniform(idx, batch_size):\n",
        "    return np.random.uniform(low = 0.0, high = 1.0, size = (batch_size))\n",
        "\n",
        "def sampler_asym_uniform(idx, batch_size):\n",
        "    return np.random.uniform(low = 0.0, high = idx + 1.0, size = (batch_size))\n",
        "\n",
        "def sampler_irr(idx, batch_size):    \n",
        "    sample_1 = np.random.uniform(low = 0.0, high = 3.0, size = (batch_size))\n",
        "    sample_2 = np.random.uniform(low = 3.0, high = 8.0, size = (batch_size))\n",
        "    mask = np.random.binomial(1, 0.75, (batch_size))\n",
        "    return (sample_1 * mask + sample_2 * (1 - mask))/10 \n",
        "\n",
        "if cfg.distr_type == \"exp\":\n",
        "    samplers = sampler_exp\n",
        "\n",
        "if cfg.distr_type == \"uniform\":\n",
        "    samplers = sampler_uniform\n",
        "        \n",
        "if cfg.distr_type == \"asym_uniform\":\n",
        "    samplers = sampler_asym_uniform\n",
        "    \n",
        "if cfg.distr_type == \"irregular\":\n",
        "    samplers = sampler_irr"
      ]
    },
    {
      "cell_type": "code",
      "execution_count": 5,
      "id": "f64e49ab-1323-4a63-93fb-2d1226ee7414",
      "metadata": {
        "id": "f64e49ab-1323-4a63-93fb-2d1226ee7414"
      },
      "outputs": [],
      "source": [
        "# Utils\n",
        "def torch_var(x): return torch.Tensor(x).to(device)\n",
        "def numpy_var(x): return x.detach().cpu().numpy()\n",
        "\n",
        "# Broadcasting into [n, 1] for easy multiplication\n",
        "theta = torch_var(cfg.theta)[:, None]"
      ]
    },
    {
      "cell_type": "code",
      "execution_count": 6,
      "id": "5522870a-54bb-40f9-801e-01d1a1a828b8",
      "metadata": {
        "id": "5522870a-54bb-40f9-801e-01d1a1a828b8"
      },
      "outputs": [],
      "source": [
        "# TODO: Initializations, Softmax temperatures\n",
        "\n",
        "class PiNet(nn.Module):      \n",
        "    def __init__(self, cfg):\n",
        "        super(PiNet, self).__init__()\n",
        "        self.cfg = cfg\n",
        "        \n",
        "        num_agents = self.cfg.num_agents\n",
        "        num_states = self.cfg.num_states\n",
        "        num_signals = self.cfg.num_signals\n",
        "        \n",
        "        num_layers = self.cfg.R\n",
        "        num_hidden_nodes = self.cfg.K\n",
        "\n",
        "        self.pi = nn.ModuleList()\n",
        "        \n",
        "        # Input layer\n",
        "        self.pi.append(nn.Linear(num_agents, num_hidden_nodes))\n",
        "        self.pi.append(nn.LeakyReLU())\n",
        "        \n",
        "        # Hidden layers\n",
        "        for i in range(num_layers - 1):\n",
        "            self.pi.append(nn.Linear(num_hidden_nodes, num_hidden_nodes))\n",
        "            self.pi.append(nn.LeakyReLU())\n",
        "         \n",
        "        # Output layer\n",
        "        self.pi.append(nn.Linear(num_hidden_nodes, num_agents * num_states * num_signals))\n",
        "        \n",
        "        for m in self.pi:\n",
        "            if isinstance(m, nn.Linear):\n",
        "                nn.init.xavier_uniform_(m.weight.data, gain = nn.init.calculate_gain('leaky_relu'))\n",
        "                nn.init.constant_(m.bias, 0)\n",
        "\n",
        "        \n",
        "\n",
        "        \n",
        "    def forward(self, v):\n",
        "        out = v\n",
        "        for module in self.pi: out = module(out)\n",
        "        out = out.view(-1, self.cfg.num_agents, self.cfg.num_states, self.cfg.num_signals)\n",
        "        return F.softmax(out, dim = -1)\n",
        "    \n",
        "    \n",
        "class PayNet(nn.Module):     \n",
        "    def __init__(self, cfg):\n",
        "        super(PayNet, self).__init__()\n",
        "        self.cfg = cfg        \n",
        "        num_layers = self.cfg.R\n",
        "        num_hidden_nodes = self.cfg.K\n",
        "\n",
        "        self.pay = nn.ModuleList()\n",
        "        \n",
        "        # Input layer\n",
        "        self.pay.append(nn.Linear(1, num_hidden_nodes))\n",
        "        self.pay.append(nn.LeakyReLU())\n",
        "        \n",
        "        # Hidden layers\n",
        "        for i in range(num_layers - 1):\n",
        "            self.pay.append(nn.Linear(num_hidden_nodes, num_hidden_nodes))\n",
        "            self.pay.append(nn.LeakyReLU())\n",
        "         \n",
        "        # Output layer\n",
        "        self.pay.append(nn.Linear(num_hidden_nodes, 1))\n",
        "        self.pay.append(nn.Sigmoid())\n",
        "        \n",
        "        for m in self.pay:\n",
        "            if isinstance(m, nn.Linear):\n",
        "                nn.init.xavier_uniform_(m.weight.data, gain = nn.init.calculate_gain('leaky_relu'))\n",
        "                nn.init.constant_(m.bias, 0)\n",
        "        \n",
        "    def forward(self, v):\n",
        "        out = v[:, None]\n",
        "        for module in self.pay: out = module(out)\n",
        "        return out.flatten()"
      ]
    },
    {
      "cell_type": "code",
      "execution_count": 7,
      "id": "893b54b6-3543-4735-8e71-96981bd25678",
      "metadata": {
        "id": "893b54b6-3543-4735-8e71-96981bd25678"
      },
      "outputs": [],
      "source": [
        "def compute_x_interim(pi_interim):\n",
        "    \"\"\"\n",
        "    Computes interim probability of taking the correct action \n",
        "    assuming obedience is satified\n",
        "    \n",
        "    Args:\n",
        "        pi_interim: [Batch_size, Num_States, Num_Signals]\n",
        "    Returns:\n",
        "        x_interim: [Batch_size]\n",
        "    \"\"\"\n",
        "    \n",
        "    return torch.diagonal(pi_interim * theta, offset = 0, dim1 = -2, dim2 = -1).sum(-1)\n",
        "\n",
        "def compute_x_deviation(pi_interim):\n",
        "    \"\"\"\n",
        "    Computes interim probability of taking the correct action \n",
        "    when obedience is not imposed    \n",
        "    Args:\n",
        "        pi_interim: [Batch_size, Num_States, Num_Signals]\n",
        "    Returns:\n",
        "        x_deviation: [Batch_size]\n",
        "    \"\"\"\n",
        "    \n",
        "    return torch.max(pi_interim * theta, axis = -2)[0].sum(-1)\n",
        "\n",
        "\n",
        "def compute_obedience_violations(x_interim, pi_interim):\n",
        "    \"\"\"\n",
        "    Computes obedience violation\n",
        "    Args:\n",
        "        x_inteirm: [Batch]\n",
        "    Returns:\n",
        "        ob_viol: [Batch]\n",
        "    \"\"\"\n",
        "\n",
        "    x_deviation = compute_x_deviation(pi_interim) \n",
        "    ob_viol = F.relu(x_deviation - x_interim)\n",
        "    return ob_viol"
      ]
    },
    {
      "cell_type": "code",
      "execution_count": 8,
      "id": "ca06b82e-4bc9-414b-9d72-40449fe5f3c2",
      "metadata": {
        "id": "ca06b82e-4bc9-414b-9d72-40449fe5f3c2"
      },
      "outputs": [],
      "source": [
        "def compute_payments_from_fractions(v_i, payoff_interim, i):\n",
        "    \"\"\"\n",
        "    Computes interim payments from pay_frac\n",
        "    Args:\n",
        "        v_i: [Batch]\n",
        "        payoff_interim: [Batch]\n",
        "        pay_frac: [Batch]\n",
        "    Returns:\n",
        "        payment_interim: [Batch]\n",
        "    \"\"\"\n",
        "    \n",
        "    # Compute p_frac\n",
        "    pay_frac = pay_net[i](v_i)\n",
        "    \n",
        "    # Payoff if opting out\n",
        "    payoff_out = max(cfg.theta) - cfg.alpha\n",
        "    \n",
        "    \"\"\" \n",
        "    Pay <= Utility - Utility_out \n",
        "         = v_i * (payoff_interim - pay_out)     \n",
        "    \"\"\"\n",
        "    \n",
        "    payment_interim = v_i * (payoff_interim - payoff_out) * pay_frac\n",
        "    return payment_interim"
      ]
    },
    {
      "cell_type": "code",
      "execution_count": 9,
      "id": "f5151d96-0b8d-4712-93af-1502d7f2d23d",
      "metadata": {
        "id": "f5151d96-0b8d-4712-93af-1502d7f2d23d"
      },
      "outputs": [],
      "source": [
        "def compute_ir_violation(v_i, payoff_interim, pay_interim):\n",
        "    \"\"\"\n",
        "    Computes IR violation\n",
        "    Args:\n",
        "        v_i: [Batch]\n",
        "        payoff_interim: [Batch]\n",
        "        pay_interim: [Batch]\n",
        "    Returns:\n",
        "        ir_viol: [Batch]\n",
        "    \"\"\"\n",
        "    \n",
        "    # Payoff if opting out\n",
        "    payoff_out = max(cfg.theta) - cfg.alpha    \n",
        "    ir_viol = F.relu( v_i * (payoff_out - payoff_interim) + pay_interim )\n",
        "    return ir_viol"
      ]
    },
    {
      "cell_type": "code",
      "execution_count": 10,
      "id": "8b93d976-9f4e-4e28-bde8-3edada270d5a",
      "metadata": {
        "id": "8b93d976-9f4e-4e28-bde8-3edada270d5a"
      },
      "outputs": [],
      "source": [
        "def compute_ic_violation_grid(v_i, payoff_interim, pay_interim):\n",
        "    \"\"\"\n",
        "    Computes IC violation\n",
        "    Args:\n",
        "        v_i: [Batch]\n",
        "        payoff_interim: [Batch]\n",
        "        pay_interim: [Batch]\n",
        "    Returns:\n",
        "        ic_viol: [Batch]\n",
        "        v_mis: [Batch]\n",
        "\n",
        "    Compute v - payoff outer-product and subtract payment\n",
        "    Now we have a utility Mesh u_mesh whose i'th row j'th column has\n",
        "    the value v[i] * payoff[j] - pay[j]. This is exactly the utility of misreporting with b[i] = v[j]\n",
        "    The diagonal is the utility of truthful reporting. (as b[i] = v[i])\n",
        "    Compute ic_violation as max of misreporting - diagonal value.\n",
        "    \n",
        "    We can use this to warm-start GD: To be implemented\n",
        "    \"\"\"\n",
        "\n",
        "    u_mesh = v_i[:, None] * payoff_interim[None, :] - pay_interim[None, :]\n",
        "    \n",
        "    u_true = torch.diag(u_mesh)\n",
        "    u_mis, v_mis_idx =  u_mesh.max(axis = -1)\n",
        "    v_mis = v_i[v_mis_idx]\n",
        "    \n",
        "    ic_viol = F.relu(u_mis - u_true)\n",
        "    return ic_viol, v_mis.detach()"
      ]
    },
    {
      "cell_type": "code",
      "execution_count": 11,
      "id": "71c0ef64-7a0d-4cae-b56d-a4bfd7f355d9",
      "metadata": {
        "id": "71c0ef64-7a0d-4cae-b56d-a4bfd7f355d9"
      },
      "outputs": [],
      "source": [
        "def compute_misreports_gd(v_i, v_mis_i, v_mesh_i, i, gd_lr = 5e-3, gd_iter = 100):\n",
        "    \n",
        "    # Autograd variables\n",
        "    v_mis_i = v_mis_i.detach().clone()\n",
        "    v_mis_i.requires_grad_(True)\n",
        "    \n",
        "    # Optimizer\n",
        "    opt = torch.optim.Adam([v_mis_i], gd_lr)\n",
        "    \n",
        "    for it in range(gd_iter):\n",
        "        \n",
        "        opt.zero_grad()        \n",
        "        u_mis = torch.zeros(cfg.num_agents).to(device)\n",
        "        \n",
        "        # Compose misreport - v_mesh [NA, BS, NS, NA]\n",
        "        v_mesh_mis = torch.cat((v_mesh_i[:, :, :i], v_mis_i[:, None, None].repeat(1, cfg.num_samples, 1), v_mesh_i[:, :, i + 1:]), axis = -1)\n",
        "        \n",
        "        pi_mesh_mis = pi_net(v_mesh_mis.view(-1, cfg.num_agents)).view(cfg.batch_size, cfg.num_samples, cfg.num_agents, cfg.num_states, cfg.num_signals)\n",
        "        pi_interim_mis = pi_mesh_mis.mean(axis = -4)\n",
        "\n",
        "        #x_interim: [Batch_size, Num_agents], Probability of taking correct actions\n",
        "        x_interim_all_mis = compute_x_interim(pi_interim_mis) \n",
        "\n",
        "        # payoff_interim: x_i - \\alpha * \\sum_j != i x_j = (1 + \\alpha) x_i - (\\sum_j) x_j\n",
        "        payoff_interim_mis = (1 + cfg.alpha) * x_interim_all_mis[:, i] - cfg.alpha * x_interim_all_mis.sum(axis = -1)\n",
        "\n",
        "        # Compute payments\n",
        "        pay_interim_mis = compute_payments_from_fractions(v_mis_i, payoff_interim_mis, i)\n",
        "\n",
        "        u_mis = (v_i * payoff_interim_mis - pay_interim_mis).sum()\n",
        "            \n",
        "        u_mis_loss = (-u_mis.sum())\n",
        "        u_mis_loss.backward(inputs = v_mis_i)\n",
        "        opt.step()        \n",
        "        v_mis_i.data.clamp_(min = 0.0)\n",
        "        \n",
        "        \n",
        "    return v_mis_i.detach().clone()"
      ]
    },
    {
      "cell_type": "code",
      "execution_count": 12,
      "id": "77ac7f7d-88b2-4852-b12d-a240d94a4684",
      "metadata": {
        "id": "77ac7f7d-88b2-4852-b12d-a240d94a4684"
      },
      "outputs": [],
      "source": [
        "def compute_ic_viol(v_i, payoff_interim, pay_interim, v_mis_i, v_mesh_i, i):\n",
        "    \n",
        "    v_mesh_mis = torch.cat((v_mesh_i[:, :, :i], v_mis_i[:, None, None].repeat(1, cfg.num_samples, 1), v_mesh_i[:, :, i + 1:]), axis = -1)\n",
        "    \n",
        "    # Compute interim pi_mis\n",
        "    pi_mesh_mis = pi_net(v_mesh_mis.view(-1, cfg.num_agents)).view(cfg.batch_size, cfg.num_samples, cfg.num_agents, cfg.num_states, cfg.num_signals)\n",
        "    pi_interim_mis = pi_mesh_mis.mean(axis = -4)\n",
        "    \n",
        "    # Compute x_interim_mis, payoff_interim_mis, pay_interim_mis\n",
        "    x_interim_all_mis = compute_x_interim(pi_interim_mis)\n",
        "    payoff_interim_mis = (1 + cfg.alpha) * x_interim_all_mis[:, i] - cfg.alpha * x_interim_all_mis.sum(axis = -1)\n",
        "    pay_interim_mis = compute_payments_from_fractions(v_mis_i, payoff_interim_mis, i)\n",
        "    \n",
        "    # Compute u_mis\n",
        "    u_mis = (v_i * payoff_interim_mis - pay_interim_mis)\n",
        "    \n",
        "    # Compute u_true\n",
        "    u_true = v_i * payoff_interim - pay_interim\n",
        "    \n",
        "    # Compute ic_viol\n",
        "    ic_viol = F.relu(u_mis - u_true)\n",
        "    return ic_viol"
      ]
    },
    {
      "cell_type": "code",
      "execution_count": 13,
      "id": "a8e2a3e3-6c3e-4759-9169-9b86b3288396",
      "metadata": {
        "id": "a8e2a3e3-6c3e-4759-9169-9b86b3288396"
      },
      "outputs": [],
      "source": [
        "pi_net = PiNet(cfg).to(device)\n",
        "pay_net = [PayNet(cfg).to(device) for _ in range(cfg.num_agents)]\n",
        "# Keep in mind that if the distributions are asymetric, we need two different neural networks"
      ]
    },
    {
      "cell_type": "code",
      "execution_count": 14,
      "id": "708c034f-8d53-4fa1-a6bb-c1b6f4afb75d",
      "metadata": {
        "id": "708c034f-8d53-4fa1-a6bb-c1b6f4afb75d"
      },
      "outputs": [],
      "source": [
        "lag_ob_init = cfg.lag_ob_init\n",
        "lag_ir_init = cfg.lag_ir_init\n",
        "lag_ic_init = cfg.lag_ic_init\n",
        "\n",
        "pho = cfg.pho_init\n",
        "pho_increment = cfg.pho_increment\n",
        "\n",
        "w_ob = torch.ones(cfg.num_agents).to(device) * lag_ob_init\n",
        "w_ir = torch.ones(cfg.num_agents).to(device) * lag_ir_init\n",
        "w_ic = torch.ones(cfg.num_agents).to(device) * lag_ic_init\n",
        "\n",
        "params = []\n",
        "params.extend(list(pi_net.parameters()))\n",
        "for i in range(cfg.num_agents):\n",
        "    params.extend(list(pay_net[i].parameters()))\n",
        "    \n",
        "opt = torch.optim.AdamW(params, lr=cfg.lr)\n",
        "\n",
        "it = 1"
      ]
    },
    {
      "cell_type": "code",
      "execution_count": 15,
      "id": "27bda925-6cf4-405f-9a11-6411000417f3",
      "metadata": {
        "id": "27bda925-6cf4-405f-9a11-6411000417f3"
      },
      "outputs": [],
      "source": [
        "\"\"\"\n",
        "V_sample is a tensor of shape [num_agents, batch_size and num_samples].\n",
        "V_sample[i, :, :] contains 'num_samples' samples of agent i's valuation to be averaged over \n",
        "for the computation of interim values of the remaning agents. These samples are the same \n",
        "for every valuation profile in the minibatch. (i.e V[i, j, :] = V[i, k, :] )\n",
        "\"\"\"\n",
        "V_sample = np.zeros((cfg.num_agents, cfg.batch_size, cfg.num_samples))\n",
        "\n",
        "for i in range(cfg.num_agents):\n",
        "    V_sample[i] = np.tile(samplers(i, cfg.num_samples)[None, :], (cfg.batch_size, 1))"
      ]
    },
    {
      "cell_type": "code",
      "execution_count": 64,
      "id": "100929ff-9541-4af8-ba94-750010e83e2b",
      "metadata": {
        "tags": [],
        "colab": {
          "base_uri": "https://localhost:8080/"
        },
        "id": "100929ff-9541-4af8-ba94-750010e83e2b",
        "outputId": "2a1552eb-e797-4ed2-fe55-12245cb95524"
      },
      "outputs": [
        {
          "output_type": "stream",
          "name": "stdout",
          "text": [
            "[Iter: 85000], [Time Elapsed: 28.92s]\n",
            "[Rev: 0.4880], [OB Viol: 0.0000], [IR Viol: 0.0000], [IC Viol: 0.0001]\n",
            "[Iter: 86000], [Time Elapsed: 99.19s]\n",
            "[Rev: 0.3730], [OB Viol: 0.0000], [IR Viol: 0.0000], [IC Viol: 0.0001]\n",
            "[Iter: 87000], [Time Elapsed: 169.39s]\n",
            "[Rev: 0.4285], [OB Viol: 0.0000], [IR Viol: 0.0000], [IC Viol: 0.0003]\n",
            "[Iter: 88000], [Time Elapsed: 239.63s]\n",
            "[Rev: 0.4625], [OB Viol: 0.0000], [IR Viol: 0.0000], [IC Viol: 0.0001]\n",
            "[Iter: 89000], [Time Elapsed: 309.97s]\n",
            "[Rev: 0.4734], [OB Viol: 0.0000], [IR Viol: 0.0000], [IC Viol: 0.0001]\n",
            "[Iter: 90000], [Time Elapsed: 380.24s]\n",
            "[Rev: 0.4957], [OB Viol: 0.0000], [IR Viol: 0.0000], [IC Viol: 0.0002]\n",
            "[Iter: 91000], [Time Elapsed: 450.52s]\n",
            "[Rev: 0.4073], [OB Viol: 0.0001], [IR Viol: 0.0000], [IC Viol: 0.0001]\n",
            "[Iter: 92000], [Time Elapsed: 520.72s]\n",
            "[Rev: 0.4145], [OB Viol: 0.0000], [IR Viol: 0.0000], [IC Viol: 0.0001]\n",
            "[Iter: 93000], [Time Elapsed: 590.84s]\n",
            "[Rev: 0.4347], [OB Viol: 0.0000], [IR Viol: 0.0000], [IC Viol: 0.0001]\n",
            "[Iter: 94000], [Time Elapsed: 661.00s]\n",
            "[Rev: 0.4238], [OB Viol: 0.0000], [IR Viol: 0.0000], [IC Viol: 0.0001]\n",
            "[Iter: 95000], [Time Elapsed: 731.06s]\n",
            "[Rev: 0.4295], [OB Viol: 0.0000], [IR Viol: 0.0000], [IC Viol: 0.0001]\n",
            "[Iter: 96000], [Time Elapsed: 801.27s]\n",
            "[Rev: 0.4365], [OB Viol: 0.0000], [IR Viol: 0.0000], [IC Viol: 0.0001]\n",
            "[Iter: 97000], [Time Elapsed: 871.57s]\n",
            "[Rev: 0.4015], [OB Viol: 0.0000], [IR Viol: 0.0000], [IC Viol: 0.0001]\n",
            "[Iter: 98000], [Time Elapsed: 941.75s]\n",
            "[Rev: 0.4682], [OB Viol: 0.0001], [IR Viol: 0.0000], [IC Viol: 0.0001]\n",
            "[Iter: 99000], [Time Elapsed: 1011.84s]\n",
            "[Rev: 0.4127], [OB Viol: 0.0000], [IR Viol: 0.0000], [IC Viol: 0.0001]\n",
            "[Iter: 100000], [Time Elapsed: 1081.98s]\n",
            "[Rev: 0.4743], [OB Viol: 0.0000], [IR Viol: 0.0000], [IC Viol: 0.0001]\n"
          ]
        }
      ],
      "source": [
        "import time\n",
        "tic = time.time()\n",
        "                                  \n",
        "while it <= cfg.max_iter:\n",
        "    \n",
        "    \n",
        "    opt.zero_grad()\n",
        "    \n",
        "    \"\"\" \n",
        "    Construction of V_mesh:\n",
        "    V_mesh is of shape [num_agents, batch_size, num_samples, num_agents]\n",
        "    What's V_mesh[i, j, k, l]?\n",
        "    V[i, j] - has num_samples elements with the same valuation for agent - i\n",
        "    but with num_samples values from the V_sample array for other agents\n",
        "    \n",
        "    We use this for computation of payment, ic-viol, ob-viol for agent - i only\n",
        "    \"\"\"\n",
        "    \n",
        "    \n",
        "    V = np.zeros((cfg.num_agents, cfg.batch_size))\n",
        "    V_mesh = np.zeros((cfg.num_agents, cfg.batch_size, cfg.num_samples, cfg.num_agents))\n",
        "\n",
        "\n",
        "    for i in range(cfg.num_agents):\n",
        "        V[i] = samplers(i, cfg.batch_size) \n",
        "        for j in range(cfg.num_agents):\n",
        "            if i == j:    \n",
        "                V_mesh[i, :, :, j] = np.tile(V[i][:, None], (1, cfg.num_samples))\n",
        "            else:\n",
        "                V_mesh[i, :, :, j] = V_sample[j]\n",
        "           \n",
        "    v = torch_var(V)\n",
        "    v_mesh = torch_var(V_mesh)\n",
        "    \n",
        "    \n",
        "    pi_mesh = pi_net(v_mesh.view(-1, cfg.num_agents)).view(cfg.num_agents, cfg.batch_size, cfg.num_samples, cfg.num_agents, cfg.num_states, cfg.num_signals)   \n",
        "    pi_mesh = pi_mesh.mean(axis = -4)\n",
        "        \n",
        "    revenue = torch.zeros(cfg.num_agents).to(device)\n",
        "    ob_viol = torch.zeros(cfg.num_agents).to(device)\n",
        "    ir_viol = torch.zeros(cfg.num_agents).to(device)\n",
        "    ic_viol = torch.zeros(cfg.num_agents).to(device)\n",
        "    \n",
        "    \n",
        "    \n",
        "    for i in range(cfg.num_agents):\n",
        "                \n",
        "        #pi_interim: [Batch_size, Num_agents, Num_states, Num_signals], experiments assigned\n",
        "        pi_interim = pi_mesh[i] \n",
        "        \n",
        "        #x_interim: [Batch_size, Num_agents], Probability of taking correct actions\n",
        "        x_interim_all = compute_x_interim(pi_interim) \n",
        "        \n",
        "        # payoff_interim: x_i - \\alpha * \\sum_j != i x_j = (1 + \\alpha) x_i - (\\sum_j) x_j\n",
        "        payoff_interim = (1 + cfg.alpha) * x_interim_all[:, i] - cfg.alpha * x_interim_all.sum(axis = -1)\n",
        "        \n",
        "        # Compute payments\n",
        "        pay_interim = compute_payments_from_fractions(v[i], payoff_interim, i)\n",
        "        \n",
        "        # Compute Revenue        \n",
        "        revenue[i] = pay_interim.mean()\n",
        "        \n",
        "        # Compute obedience violations\n",
        "        ob_viol[i] = compute_obedience_violations(x_interim_all[:, i], pi_interim[:, i]).mean()\n",
        "        \n",
        "        # Compute ir violation\n",
        "        ir_viol[i] = compute_ir_violation(v[i], payoff_interim, pay_interim).mean()\n",
        "        \n",
        "        # Compute ic violation: \n",
        "        # Uncomment this for random starts\n",
        "        # v_mis_init = torch_var(samplers(i,cfg.batch_size))\n",
        "        \n",
        "        # Warm-start with the best misreport computed using other minibatch vals\n",
        "        _, v_mis_init = compute_ic_violation_grid(v[i], payoff_interim, pay_interim)\n",
        "                \n",
        "        v_mis = compute_misreports_gd(v[i], v_mis_init, v_mesh[i], i, gd_lr = cfg.gd_lr, gd_iter = cfg.gd_iter)        \n",
        "        ic_viol[i] = compute_ic_viol(v[i], payoff_interim, pay_interim, v_mis, v_mesh[i], i).mean()\n",
        "    \n",
        "\n",
        "    rev_loss = -revenue.sum()\n",
        "    lagrangian = torch.dot(w_ob, ob_viol) + torch.dot(w_ir, ir_viol) + torch.dot(w_ic, ic_viol)\n",
        "    penalty = pho * ((ob_viol**2).sum() + (ir_viol**2).sum() + (ic_viol**2).sum())\n",
        "    \n",
        "    loss = rev_loss + penalty + lagrangian\n",
        "    \n",
        "    loss.backward()   \n",
        "    opt.step()\n",
        "    \n",
        "    if it % cfg.print_iter == 0:\n",
        "        print(\"[Iter: %d], [Time Elapsed: %.2fs]\"%(it, time.time() - tic))\n",
        "        print(\"[Rev: %.4f], [OB Viol: %.4f], [IR Viol: %.4f], [IC Viol: %.4f]\"%(revenue.sum(), ob_viol.mean().item(), ir_viol.mean().item(), ic_viol.mean().item()))\n",
        "        \n",
        "    if it % cfg.lag_up_iter == 0:\n",
        "        w_ob.data += pho * ob_viol.data\n",
        "        w_ic.data += pho * ic_viol.data\n",
        "        \n",
        "    if it % cfg.pho_up_iter == 0:\n",
        "        pho += pho_increment\n",
        "        \n",
        "    it += 1"
      ]
    },
    {
      "cell_type": "code",
      "execution_count": 27,
      "id": "2c22f1e6-7d2a-49b5-94fa-71802d903559",
      "metadata": {
        "colab": {
          "base_uri": "https://localhost:8080/",
          "height": 320
        },
        "id": "2c22f1e6-7d2a-49b5-94fa-71802d903559",
        "outputId": "2f9338be-b466-4e1a-8a0f-409e6c027799"
      },
      "outputs": [
        {
          "output_type": "display_data",
          "data": {
            "text/plain": [
              "<Figure size 648x288 with 4 Axes>"
            ],
            "image/png": "[encoded data removed]"
          },
          "metadata": {
            "needs_background": "light"
          }
        }
      ],
      "source": [
        "D = 801\n",
        "v1 = torch_var(np.linspace(0, 0.8, D))\n",
        "v2 = torch_var(np.linspace(0, 0.8, D))\n",
        "v_mesh = torch.stack(torch.meshgrid(v1, v2, indexing = \"ij\"), axis = -1)\n",
        "pi_mesh = torch.diagonal(pi_net(v_mesh.view(-1, 2)).view(D, D, cfg.num_agents, cfg.num_states, cfg.num_signals) * theta, 0, -2, -1).sum(-1)\n",
        "AM = numpy_var(pi_mesh)\n",
        "\n",
        "\n",
        "fig, ax = plt.subplots(ncols = 2, nrows = 1, figsize=(9,4))\n",
        "\n",
        "img_1 = ax[0].imshow(AM[:, :, 0].transpose(1,0), extent=[0,0.8,0,0.8], vmin = 0.0, vmax=1.0, cmap = 'YlOrRd', origin = \"lower\")\n",
        "plt.colorbar(img_1, ax = ax[0], fraction=0.046, pad=0.04)\n",
        "\n",
        "img_2 = ax[1].imshow(AM[:, :, 1].transpose(1,0), extent=[0,0.8,0,0.8], vmin = 0.0, vmax=1.0, cmap = 'YlOrRd', origin = \"lower\")\n",
        "plt.colorbar(img_2, ax = ax[1], fraction=0.046, pad=0.04)\n",
        "\n",
        "ax[0].plot([0, 0.2], [0.2, 0.2], color='black')\n",
        "ax[0].plot([0.2, 0.238196], [0.2, 0.219098], color='black')\n",
        "ax[0].plot([0.238196, 0.438196], [0.219098, 0.219098], color='black')\n",
        "ax[0].plot([0.438196, 0.47639], [0.219098, 0.238195], color='black')\n",
        "ax[0].plot([0.47639, 0.47639], [0.238195,0.438195], color='black')\n",
        "ax[0].plot([0.47639, 0.8], [0.438195, 0.6], color='black')\n",
        "\n",
        "ax[1].plot([0.2, 0.2],[0, 0.2], color='black')\n",
        "ax[1].plot([0.2, 0.219098], [0.2, 0.238196], color='black')\n",
        "ax[1].plot([0.219098, 0.219098], [0.238196, 0.438196], color='black')\n",
        "ax[1].plot([0.219098, 0.238195], [0.438196, 0.47639], color='black')\n",
        "ax[1].plot([0.238195,0.438195], [0.47639, 0.47639], color='black')\n",
        "ax[1].plot([0.438195, 0.6], [0.47639, 0.8], color='black')\n",
        "\n",
        "ax[0].set_xlabel(\"$v_1$\")\n",
        "ax[0].set_ylabel(\"$v_2$\")\n",
        "ax[1].set_xlabel(\"$v_1$\")\n",
        "ax[1].set_ylabel(\"$v_2$\")\n",
        "\n",
        "fig.text(0.5, 1, r\"Irr, $\\alpha=%.2f, \\theta=%.2f$\"%(cfg.alpha, max(cfg.theta)), ha='center', size = 16)\n",
        "fig.tight_layout()"
      ]
    },
    {
      "cell_type": "code",
      "execution_count": 46,
      "id": "2ccc0787-619e-48e7-9ed6-846a834043b6",
      "metadata": {
        "id": "2ccc0787-619e-48e7-9ed6-846a834043b6"
      },
      "outputs": [],
      "source": [
        "V = np.linspace(0, 8, 801)\n",
        "V_mesh = np.stack(np.meshgrid(V, V, indexing = \"ij\"), axis = -1)\n",
        "\n",
        "def compute_VV(v):\n",
        "    vv = np.zeros(v.shape)\n",
        "    for i in range(v.shape[0]):\n",
        "        if(v[i] <= (7.0 - np.sqrt(5.0))/2.0):\n",
        "            vv[i] = 2.0 * v[i] - 4.0\n",
        "        elif(v[i] <= (11.0 - np.sqrt(5.0))/2.0):\n",
        "            vv[i] = 3.0 - np.sqrt(5.0)\n",
        "        else:\n",
        "            vv[i] = 2.0 * v[i] - 8.0\n",
        "    return(vv)\n",
        "\n",
        "VV = compute_VV(V)\n",
        "VV_mesh = np.stack(np.meshgrid(VV, VV, indexing = \"ij\"), axis = -1)"
      ]
    },
    {
      "cell_type": "code",
      "execution_count": 50,
      "id": "4b927338-96b3-4e94-95c0-083210d30a82",
      "metadata": {
        "id": "4b927338-96b3-4e94-95c0-083210d30a82"
      },
      "outputs": [],
      "source": [
        "def compute_alloc(V_mesh, VV_mesh):\n",
        "    x = np.zeros(VV_mesh.shape)\n",
        "    rev = 0.0\n",
        "    for i in range(VV_mesh.shape[0]):\n",
        "        for j in range(VV_mesh.shape[1]):\n",
        "            x[i, j, 0] =  VV_mesh[i, j, 0] > cfg.alpha * VV_mesh[i, j, 1]\n",
        "            x[i, j, 1] =  VV_mesh[i, j, 1] > cfg.alpha * VV_mesh[i, j, 0]\n",
        "            if V_mesh[i, j, 0] <= 2 and V_mesh[i, j, 1] <= 2:\n",
        "               x[i, j, 0] = 1.0\n",
        "               x[i, j, 1] = 1.0\n",
        "            \n",
        "        rev += x[i, j, 0] * (VV_mesh[i, j, 0] - cfg.alpha * VV_mesh[i, j, 1])\n",
        "    return x, rev/(VV_mesh.shape[0] * VV_mesh.shape[1])"
      ]
    },
    {
      "cell_type": "code",
      "execution_count": 51,
      "id": "592197c8-f26a-41c8-9b1b-e2a012cd2eb0",
      "metadata": {
        "id": "592197c8-f26a-41c8-9b1b-e2a012cd2eb0"
      },
      "outputs": [],
      "source": [
        "X, rev = compute_alloc(V_mesh, VV_mesh)"
      ]
    },
    {
      "cell_type": "code",
      "execution_count": 52,
      "id": "a8104df4-bb98-40a7-83d2-6539aa0e8625",
      "metadata": {
        "colab": {
          "base_uri": "https://localhost:8080/",
          "height": 287
        },
        "id": "a8104df4-bb98-40a7-83d2-6539aa0e8625",
        "outputId": "f4fc5ee7-04e3-4e10-ffac-9057d15a1564"
      },
      "outputs": [
        {
          "output_type": "execute_result",
          "data": {
            "text/plain": [
              "<matplotlib.image.AxesImage at 0x7fc0c8619dc0>"
            ]
          },
          "metadata": {},
          "execution_count": 52
        },
        {
          "output_type": "display_data",
          "data": {
            "text/plain": [
              "<Figure size 432x288 with 1 Axes>"
            ],
            "image/png": "[encoded data removed]"
          },
          "metadata": {
            "needs_background": "light"
          }
        }
      ],
      "source": [
        "plt.imshow(X[:, :,0].T, origin = \"lower\")"
      ]
    },
    {
      "cell_type": "code",
      "execution_count": null,
      "id": "0b25b1a1-91fa-42cc-a5ad-3e0074345a90",
      "metadata": {
        "id": "0b25b1a1-91fa-42cc-a5ad-3e0074345a90",
        "outputId": "ac65f767-5f48-43ee-89b5-321ecdffeb2d"
      },
      "outputs": [
        {
          "data": {
            "text/plain": [
              "0.000626557626936367"
            ]
          },
          "execution_count": 69,
          "metadata": {},
          "output_type": "execute_result"
        }
      ],
      "source": [
        "rev"
      ]
    },
    {
      "cell_type": "code",
      "source": [
        "from google.colab import files\n",
        "# torch.save(pi_net.state_dict(), '2better5gdirralpha2.pth')\n",
        "# torch.save(pay_net[0].state_dict(), '2better5gdirralpha2p1.pth')\n",
        "# torch.save(pay_net[1].state_dict(), '2better5gdirralpha2p2.pth')\n",
        "# # # # download checkpoint file\n",
        "# files.download('2better5gdirralpha2.pth')\n",
        "# files.download('2better5gdirralpha2p1.pth')\n",
        "# files.download('2better5gdirralpha2p2.pth')\n",
        "\n",
        "files.upload()\n",
        "state_dict = torch.load('2better5gdirralpha2.pth')\n",
        "state_dict_2 = torch.load('2better5gdirralpha2p1.pth')\n",
        "state_dict_3 = torch.load('2better5gdirralpha2p2.pth')\n",
        "pi_net.load_state_dict(state_dict)\n",
        "pay_net[0].load_state_dict(state_dict_2)\n",
        "pay_net[1].load_state_dict(state_dict_3)"
      ],
      "metadata": {
        "colab": {
          "base_uri": "https://localhost:8080/",
          "height": 162
        },
        "id": "XXM6KaSybrX9",
        "outputId": "fddde19d-2df6-498d-a748-d81733ed7724"
      },
      "id": "XXM6KaSybrX9",
      "execution_count": 16,
      "outputs": [
        {
          "output_type": "display_data",
          "data": {
            "text/plain": [
              "<IPython.core.display.HTML object>"
            ],
            "text/html": [
              "\n",
              "     <input type=\"file\" id=\"files-ccdb1328-382e-4fe4-9e6e-42657e55b0d9\" name=\"files[]\" multiple disabled\n",
              "        style=\"border:none\" />\n",
              "     <output id=\"result-ccdb1328-382e-4fe4-9e6e-42657e55b0d9\">\n",
              "      Upload widget is only available when the cell has been executed in the\n",
              "      current browser session. Please rerun this cell to enable.\n",
              "      </output>\n",
              "      <script>// Copyright 2017 Google LLC\n",
              "//\n",
              "// Licensed under the Apache License, Version 2.0 (the \"License\");\n",
              "// you may not use this file except in compliance with the License.\n",
              "// You may obtain a copy of the License at\n",
              "//\n",
              "//      http://www.apache.org/licenses/LICENSE-2.0\n",
              "//\n",
              "// Unless required by applicable law or agreed to in writing, software\n",
              "// distributed under the License is distributed on an \"AS IS\" BASIS,\n",
              "// WITHOUT WARRANTIES OR CONDITIONS OF ANY KIND, either express or implied.\n",
              "// See the License for the specific language governing permissions and\n",
              "// limitations under the License.\n",
              "\n",
              "/**\n",
              " * @fileoverview Helpers for google.colab Python module.\n",
              " */\n",
              "(function(scope) {\n",
              "function span(text, styleAttributes = {}) {\n",
              "  const element = document.createElement('span');\n",
              "  element.textContent = text;\n",
              "  for (const key of Object.keys(styleAttributes)) {\n",
              "    element.style[key] = styleAttributes[key];\n",
              "  }\n",
              "  return element;\n",
              "}\n",
              "\n",
              "// Max number of bytes which will be uploaded at a time.\n",
              "const MAX_PAYLOAD_SIZE = 100 * 1024;\n",
              "\n",
              "function _uploadFiles(inputId, outputId) {\n",
              "  const steps = uploadFilesStep(inputId, outputId);\n",
              "  const outputElement = document.getElementById(outputId);\n",
              "  // Cache steps on the outputElement to make it available for the next call\n",
              "  // to uploadFilesContinue from Python.\n",
              "  outputElement.steps = steps;\n",
              "\n",
              "  return _uploadFilesContinue(outputId);\n",
              "}\n",
              "\n",
              "// This is roughly an async generator (not supported in the browser yet),\n",
              "// where there are multiple asynchronous steps and the Python side is going\n",
              "// to poll for completion of each step.\n",
              "// This uses a Promise to block the python side on completion of each step,\n",
              "// then passes the result of the previous step as the input to the next step.\n",
              "function _uploadFilesContinue(outputId) {\n",
              "  const outputElement = document.getElementById(outputId);\n",
              "  const steps = outputElement.steps;\n",
              "\n",
              "  const next = steps.next(outputElement.lastPromiseValue);\n",
              "  return Promise.resolve(next.value.promise).then((value) => {\n",
              "    // Cache the last promise value to make it available to the next\n",
              "    // step of the generator.\n",
              "    outputElement.lastPromiseValue = value;\n",
              "    return next.value.response;\n",
              "  });\n",
              "}\n",
              "\n",
              "/**\n",
              " * Generator function which is called between each async step of the upload\n",
              " * process.\n",
              " * @param {string} inputId Element ID of the input file picker element.\n",
              " * @param {string} outputId Element ID of the output display.\n",
              " * @return {!Iterable<!Object>} Iterable of next steps.\n",
              " */\n",
              "function* uploadFilesStep(inputId, outputId) {\n",
              "  const inputElement = document.getElementById(inputId);\n",
              "  inputElement.disabled = false;\n",
              "\n",
              "  const outputElement = document.getElementById(outputId);\n",
              "  outputElement.innerHTML = '';\n",
              "\n",
              "  const pickedPromise = new Promise((resolve) => {\n",
              "    inputElement.addEventListener('change', (e) => {\n",
              "      resolve(e.target.files);\n",
              "    });\n",
              "  });\n",
              "\n",
              "  const cancel = document.createElement('button');\n",
              "  inputElement.parentElement.appendChild(cancel);\n",
              "  cancel.textContent = 'Cancel upload';\n",
              "  const cancelPromise = new Promise((resolve) => {\n",
              "    cancel.onclick = () => {\n",
              "      resolve(null);\n",
              "    };\n",
              "  });\n",
              "\n",
              "  // Wait for the user to pick the files.\n",
              "  const files = yield {\n",
              "    promise: Promise.race([pickedPromise, cancelPromise]),\n",
              "    response: {\n",
              "      action: 'starting',\n",
              "    }\n",
              "  };\n",
              "\n",
              "  cancel.remove();\n",
              "\n",
              "  // Disable the input element since further picks are not allowed.\n",
              "  inputElement.disabled = true;\n",
              "\n",
              "  if (!files) {\n",
              "    return {\n",
              "      response: {\n",
              "        action: 'complete',\n",
              "      }\n",
              "    };\n",
              "  }\n",
              "\n",
              "  for (const file of files) {\n",
              "    const li = document.createElement('li');\n",
              "    li.append(span(file.name, {fontWeight: 'bold'}));\n",
              "    li.append(span(\n",
              "        `(${file.type || 'n/a'}) - ${file.size} bytes, ` +\n",
              "        `last modified: ${\n",
              "            file.lastModifiedDate ? file.lastModifiedDate.toLocaleDateString() :\n",
              "                                    'n/a'} - `));\n",
              "    const percent = span('0% done');\n",
              "    li.appendChild(percent);\n",
              "\n",
              "    outputElement.appendChild(li);\n",
              "\n",
              "    const fileDataPromise = new Promise((resolve) => {\n",
              "      const reader = new FileReader();\n",
              "      reader.onload = (e) => {\n",
              "        resolve(e.target.result);\n",
              "      };\n",
              "      reader.readAsArrayBuffer(file);\n",
              "    });\n",
              "    // Wait for the data to be ready.\n",
              "    let fileData = yield {\n",
              "      promise: fileDataPromise,\n",
              "      response: {\n",
              "        action: 'continue',\n",
              "      }\n",
              "    };\n",
              "\n",
              "    // Use a chunked sending to avoid message size limits. See b/62115660.\n",
              "    let position = 0;\n",
              "    do {\n",
              "      const length = Math.min(fileData.byteLength - position, MAX_PAYLOAD_SIZE);\n",
              "      const chunk = new Uint8Array(fileData, position, length);\n",
              "      position += length;\n",
              "\n",
              "      const base64 = btoa(String.fromCharCode.apply(null, chunk));\n",
              "      yield {\n",
              "        response: {\n",
              "          action: 'append',\n",
              "          file: file.name,\n",
              "          data: base64,\n",
              "        },\n",
              "      };\n",
              "\n",
              "      let percentDone = fileData.byteLength === 0 ?\n",
              "          100 :\n",
              "          Math.round((position / fileData.byteLength) * 100);\n",
              "      percent.textContent = `${percentDone}% done`;\n",
              "\n",
              "    } while (position < fileData.byteLength);\n",
              "  }\n",
              "\n",
              "  // All done.\n",
              "  yield {\n",
              "    response: {\n",
              "      action: 'complete',\n",
              "    }\n",
              "  };\n",
              "}\n",
              "\n",
              "scope.google = scope.google || {};\n",
              "scope.google.colab = scope.google.colab || {};\n",
              "scope.google.colab._files = {\n",
              "  _uploadFiles,\n",
              "  _uploadFilesContinue,\n",
              "};\n",
              "})(self);\n",
              "</script> "
            ]
          },
          "metadata": {}
        },
        {
          "output_type": "stream",
          "name": "stdout",
          "text": [
            "Saving 2better5gdirralpha2.pth to 2better5gdirralpha2.pth\n",
            "Saving 2better5gdirralpha2p1.pth to 2better5gdirralpha2p1.pth\n",
            "Saving 2better5gdirralpha2p2.pth to 2better5gdirralpha2p2.pth\n"
          ]
        },
        {
          "output_type": "execute_result",
          "data": {
            "text/plain": [
              "<All keys matched successfully>"
            ]
          },
          "metadata": {},
          "execution_count": 16
        }
      ]
    },
    {
      "cell_type": "code",
      "execution_count": null,
      "id": "7cc45f8d-2565-4c4a-8ba0-1f000df6251c",
      "metadata": {
        "id": "7cc45f8d-2565-4c4a-8ba0-1f000df6251c",
        "outputId": "e1099503-2298-41fc-c64c-208263003cfe"
      },
      "outputs": [
        {
          "data": {
            "text/plain": [
              "0.0"
            ]
          },
          "execution_count": 58,
          "metadata": {},
          "output_type": "execute_result"
        }
      ],
      "source": [
        "X.min()"
      ]
    },
    {
      "cell_type": "code",
      "execution_count": null,
      "id": "232a0050-b215-483c-be6c-dbf0fa73d682",
      "metadata": {
        "id": "232a0050-b215-483c-be6c-dbf0fa73d682"
      },
      "outputs": [],
      "source": [
        "U1 = (VV_mesh[:, :, 0] - 0.5 * VV_mesh[:, :, 1])\n",
        "U2 = (VV_mesh[:201, :201, 0] - 0.5 * VV_mesh[:201, :201, 1])"
      ]
    },
    {
      "cell_type": "code",
      "execution_count": null,
      "id": "90a177c2-f1cb-4907-bd32-2930195d2752",
      "metadata": {
        "id": "90a177c2-f1cb-4907-bd32-2930195d2752"
      },
      "outputs": [],
      "source": [
        "X = (U1 > 0)"
      ]
    },
    {
      "cell_type": "code",
      "execution_count": null,
      "id": "138f167e-dfc2-4380-a8ae-8d8ff598d4c8",
      "metadata": {
        "id": "138f167e-dfc2-4380-a8ae-8d8ff598d4c8"
      },
      "outputs": [],
      "source": [
        "X[:201, :201] = 1.0"
      ]
    },
    {
      "cell_type": "code",
      "execution_count": null,
      "id": "821da283-7851-45ba-9906-b02899e8985e",
      "metadata": {
        "id": "821da283-7851-45ba-9906-b02899e8985e",
        "outputId": "071189ac-b89b-4303-924a-ae933bbf2041"
      },
      "outputs": [
        {
          "data": {
            "text/plain": [
              "(801, 801, 2)"
            ]
          },
          "execution_count": 85,
          "metadata": {},
          "output_type": "execute_result"
        }
      ],
      "source": [
        "VV_mesh.shape"
      ]
    },
    {
      "cell_type": "code",
      "execution_count": null,
      "id": "17037346-43cf-41fb-b33e-92a78b0a3aac",
      "metadata": {
        "id": "17037346-43cf-41fb-b33e-92a78b0a3aac",
        "outputId": "78d342b2-5b6c-4e78-ed70-7f5851fd9b5d"
      },
      "outputs": [
        {
          "data": {
            "text/plain": [
              "1.7444153990396802"
            ]
          },
          "execution_count": 100,
          "metadata": {},
          "output_type": "execute_result"
        }
      ],
      "source": [
        "(X * (VV_mesh[:, :, 0] - 0.5 * VV_mesh[:, :, 1])).mean()"
      ]
    },
    {
      "cell_type": "code",
      "execution_count": 70,
      "id": "84aa220f-a73f-40ed-9066-59a44231abe0",
      "metadata": {
        "colab": {
          "base_uri": "https://localhost:8080/"
        },
        "id": "84aa220f-a73f-40ed-9066-59a44231abe0",
        "outputId": "5737c3ec-688b-46fa-daae-c9be2ea6c57f"
      },
      "outputs": [
        {
          "output_type": "stream",
          "name": "stdout",
          "text": [
            "[Rev: 0.4400], [OB Viol: 0.0000], [IR Viol: 0.0000], [IC Viol: 0.0001]\n",
            "[Rev: 0.4411], [OB Viol: 0.0000], [IR Viol: 0.0000], [IC Viol: 0.0001]\n",
            "[Rev: 0.4406], [OB Viol: 0.0000], [IR Viol: 0.0000], [IC Viol: 0.0001]\n",
            "[Rev: 0.4406], [OB Viol: 0.0000], [IR Viol: 0.0000], [IC Viol: 0.0001]\n",
            "[Rev: 0.4403], [OB Viol: 0.0000], [IR Viol: 0.0000], [IC Viol: 0.0001]\n",
            "[Rev: 0.4404], [OB Viol: 0.0000], [IR Viol: 0.0000], [IC Viol: 0.0001]\n",
            "[Rev: 0.4403], [OB Viol: 0.0000], [IR Viol: 0.0000], [IC Viol: 0.0001]\n",
            "[Rev: 0.4405], [OB Viol: 0.0000], [IR Viol: 0.0000], [IC Viol: 0.0001]\n",
            "[Rev: 0.4406], [OB Viol: 0.0000], [IR Viol: 0.0000], [IC Viol: 0.0001]\n",
            "[Rev: 0.4404], [OB Viol: 0.0000], [IR Viol: 0.0000], [IC Viol: 0.0001]\n"
          ]
        }
      ],
      "source": [
        "import time\n",
        "import gc\n",
        "tic = time.time()\n",
        "                              \n",
        "\n",
        "\"\"\" \n",
        "Construction of V_mesh:\n",
        "V_mesh is of shape [num_agents, batch_size, num_samples, num_agents]\n",
        "What's V_mesh[i, j, k, l]?\n",
        "V[i, j] - has num_samples elements with the same valuation for agent - i\n",
        "but with num_samples values from the V_sample array for other agents\n",
        "\n",
        "We use this for computation of payment, ic-viol, ob-viol for agent - i only\n",
        "\"\"\"\n",
        "ctrrev = 0\n",
        "ctrob = 0\n",
        "ctrir = 0\n",
        "ctric = 0\n",
        "testitr = 10000\n",
        "for iters in range(testitr):\n",
        "    opt.zero_grad()\n",
        "  \n",
        "    \"\"\" \n",
        "    Construction of V_mesh:\n",
        "    V_mesh is of shape [num_agents, batch_size, num_samples, num_agents]\n",
        "    What's V_mesh[i, j, k, l]?\n",
        "    V[i, j] - has num_samples elements with the same valuation for agent - i\n",
        "    but with num_samples values from the V_sample array for other agents\n",
        "    \n",
        "    We use this for computation of payment, ic-viol, ob-viol for agent - i only\n",
        "    \"\"\"\n",
        "    \n",
        "    \n",
        "    V = np.zeros((cfg.num_agents, cfg.batch_size))\n",
        "    V_mesh = np.zeros((cfg.num_agents, cfg.batch_size, cfg.num_samples, cfg.num_agents))\n",
        "\n",
        "\n",
        "    for i in range(cfg.num_agents):\n",
        "        V[i] = samplers(i, cfg.batch_size)    \n",
        "        for j in range(cfg.num_agents):\n",
        "            if i == j:    \n",
        "                V_mesh[i, :, :, j] = np.tile(V[i][:, None], (1, cfg.num_samples))\n",
        "            else:\n",
        "                V_mesh[i, :, :, j] = V_sample[j]\n",
        "          \n",
        "    v = torch_var(V)\n",
        "    v_mesh = torch_var(V_mesh)\n",
        "    \n",
        "    \n",
        "    pi_mesh = pi_net(v_mesh.view(-1, cfg.num_agents)).view(cfg.num_agents, cfg.batch_size, cfg.num_samples, cfg.num_agents, cfg.num_states, cfg.num_signals)   \n",
        "    pi_mesh = pi_mesh.mean(axis = -4)\n",
        "        \n",
        "    revenue = torch.zeros(cfg.num_agents).to(device)\n",
        "    ob_viol = torch.zeros(cfg.num_agents).to(device)\n",
        "    ir_viol = torch.zeros(cfg.num_agents).to(device)\n",
        "    ic_viol = torch.zeros(cfg.num_agents).to(device)\n",
        "    \n",
        "    \n",
        "    \n",
        "    for i in range(cfg.num_agents):\n",
        "                \n",
        "        #pi_interim: [Batch_size, Num_agents, Num_states, Num_signals], experiments assigned\n",
        "        pi_interim = pi_mesh[i] \n",
        "        \n",
        "        #x_interim: [Batch_size, Num_agents], Probability of taking correct actions\n",
        "        x_interim_all = compute_x_interim(pi_interim) \n",
        "        \n",
        "        # payoff_interim: x_i - \\alpha * \\sum_j != i x_j = (1 + \\alpha) x_i - (\\sum_j) x_j\n",
        "        payoff_interim = (1 + cfg.alpha) * x_interim_all[:, i] - cfg.alpha * x_interim_all.sum(axis = -1)\n",
        "        \n",
        "        # Compute payments\n",
        "        pay_interim = compute_payments_from_fractions(v[i], payoff_interim, i)\n",
        "        \n",
        "        # Compute Revenue        \n",
        "        revenue[i] = pay_interim.mean()\n",
        "        \n",
        "        # Compute obedience violations\n",
        "        ob_viol[i] = compute_obedience_violations(x_interim_all[:, i], pi_interim[:, i]).mean()\n",
        "        \n",
        "        # Compute ir violation\n",
        "        ir_viol[i] = compute_ir_violation(v[i], payoff_interim, pay_interim).mean()\n",
        "        \n",
        "        # Compute ic violation: \n",
        "        # Uncomment this for random starts\n",
        "        # v_mis_init = torch_var(samplers[i](cfg.batch_size))\n",
        "        \n",
        "        # Warm-start with the best misreport computed using other minibatch vals\n",
        "        _, v_mis_init = compute_ic_violation_grid(v[i], payoff_interim, pay_interim)\n",
        "                \n",
        "        v_mis = compute_misreports_gd(v[i], v_mis_init, v_mesh[i], i, gd_lr = cfg.gd_lr, gd_iter = cfg.gd_iter)        \n",
        "        ic_viol[i] = compute_ic_viol(v[i], payoff_interim, pay_interim, v_mis, v_mesh[i], i).mean()\n",
        "    \n",
        "\n",
        "    rev_loss = -revenue.sum()\n",
        "    lagrangian = torch.dot(w_ob, ob_viol) + torch.dot(w_ir, ir_viol) + torch.dot(w_ic, ic_viol)\n",
        "    penalty = pho * ((ob_viol**2).sum() + (ir_viol**2).sum() + (ic_viol**2).sum())\n",
        "    \n",
        "    loss = rev_loss + penalty + lagrangian\n",
        "    if it % cfg.lag_up_iter == 0:\n",
        "        w_ob.data += pho * ob_viol.data\n",
        "        w_ic.data += pho * ic_viol.data\n",
        "        \n",
        "    if it % cfg.pho_up_iter == 0:\n",
        "        pho += pho_increment\n",
        "        \n",
        "    it += 1\n",
        "\n",
        "    ctrrev += revenue.sum()\n",
        "    ctrob += ob_viol.mean().item()\n",
        "    ctrir += ir_viol.mean().item()\n",
        "    ctric += ic_viol.mean().item()\n",
        "    loss.backward()\n",
        "    if iters % 1000 == 0 and iters != 0:\n",
        "      print(\"[Rev: %.4f], [OB Viol: %.4f], [IR Viol: %.4f], [IC Viol: %.4f]\"%(ctrrev/iters, ctrob/iters, ctrir/iters, ctric/iters))\n",
        "\n",
        "print(\"[Rev: %.4f], [OB Viol: %.4f], [IR Viol: %.4f], [IC Viol: %.4f]\"%(ctrrev/testitr, ctrob/testitr, ctrir/testitr, ctric/testitr))"
      ]
    }
  ],
  "metadata": {
    "kernelspec": {
      "display_name": "Python [conda env:.conda-data_markets]",
      "language": "python",
      "name": "conda-env-.conda-data_markets-py"
    },
    "language_info": {
      "codemirror_mode": {
        "name": "ipython",
        "version": 3
      },
      "file_extension": ".py",
      "mimetype": "text/x-python",
      "name": "python",
      "nbconvert_exporter": "python",
      "pygments_lexer": "ipython3",
      "version": "3.8.2"
    },
    "colab": {
      "provenance": []
    },
    "accelerator": "GPU",
    "gpuClass": "standard"
  },
  "nbformat": 4,
  "nbformat_minor": 5
}