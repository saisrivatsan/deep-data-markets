{
 "cells": [
  {
   "cell_type": "code",
   "execution_count": 48,
   "id": "28ac581b-3953-472f-ae11-219d4b4b4e2b",
   "metadata": {},
   "outputs": [],
   "source": [
    "import numpy as np"
   ]
  },
  {
   "cell_type": "code",
   "execution_count": 40,
   "id": "7d8e628c-4937-4c5c-9a03-185d589db97a",
   "metadata": {},
   "outputs": [],
   "source": []
  },
  {
   "cell_type": "code",
   "execution_count": 47,
   "id": "c04a724b-d771-42a6-9beb-3674b32c3b77",
   "metadata": {},
   "outputs": [
    {
     "name": "stdout",
     "output_type": "stream",
     "text": [
      "0.20239004733035382\n",
      "0.2023575816859244\n",
      "0.20287097695195172\n",
      "0.20103797254492525\n",
      "0.20216548717235883\n",
      "0.2021688928418616\n",
      "0.20141643504548082\n",
      "0.2015772946055335\n",
      "0.20294070577646747\n",
      "0.20214124475105624\n"
     ]
    }
   ],
   "source": [
    "for _ in range(10):\n",
    "    n = 10000000\n",
    "    V = np.random.exponential(1, (n,2))\n",
    "    VV = V - 1\n",
    "    U = VV[:, 0] - 0.5 * VV[:, 1]\n",
    "    X = np.ones_like(U)\n",
    "    X[U < 0] = 0.75\n",
    "    print((X * U).mean() * 2)"
   ]
  },
  {
   "cell_type": "code",
   "execution_count": 42,
   "id": "1d6d84ea-900a-4248-9bfe-c8fb46164c0a",
   "metadata": {},
   "outputs": [],
   "source": []
  },
  {
   "cell_type": "code",
   "execution_count": 43,
   "id": "f8baec6e-5cdb-4010-a1a5-80016c19c85b",
   "metadata": {},
   "outputs": [
    {
     "data": {
      "text/plain": [
       "0.2014056592063075"
      ]
     },
     "execution_count": 43,
     "metadata": {},
     "output_type": "execute_result"
    }
   ],
   "source": []
  },
  {
   "cell_type": "code",
   "execution_count": 50,
   "id": "7ad08bc0-38dd-472b-85d5-281b2930acba",
   "metadata": {},
   "outputs": [
    {
     "name": "stdout",
     "output_type": "stream",
     "text": [
      "0.2707905719857142\n",
      "0.27067346342059617\n",
      "0.27058025739488206\n",
      "0.2705559711490133\n",
      "0.2704812522980024\n",
      "0.27063445276226367\n",
      "0.2711367174362489\n",
      "0.2714760602462472\n",
      "0.270854359571033\n",
      "0.2707682787833827\n"
     ]
    }
   ],
   "source": [
    "for _ in range(10):\n",
    "    n = 10000000\n",
    "    V = np.random.rand(n,2)\n",
    "    VV = 2 * V - 1\n",
    "    U = VV[:, 0] - 0.5 * VV[:, 1]\n",
    "    X = np.ones_like(U)\n",
    "    X[U < 0] = 0.50\n",
    "    print((X * U).mean() * 2)"
   ]
  },
  {
   "cell_type": "code",
   "execution_count": null,
   "id": "3b052e81-53ba-4bc5-8963-192190e14c93",
   "metadata": {},
   "outputs": [],
   "source": []
  }
 ],
 "metadata": {
  "kernelspec": {
   "display_name": "Python [conda env:.conda-data_markets]",
   "language": "python",
   "name": "conda-env-.conda-data_markets-py"
  },
  "language_info": {
   "codemirror_mode": {
    "name": "ipython",
    "version": 3
   },
   "file_extension": ".py",
   "mimetype": "text/x-python",
   "name": "python",
   "nbconvert_exporter": "python",
   "pygments_lexer": "ipython3",
   "version": "3.8.2"
  }
 },
 "nbformat": 4,
 "nbformat_minor": 5
}
