{
 "cells": [
  {
   "cell_type": "code",
   "execution_count": null,
   "id": "6eeb1910-1d87-4b22-ab93-b757826befa7",
   "metadata": {
    "id": "6eeb1910-1d87-4b22-ab93-b757826befa7"
   },
   "outputs": [],
   "source": [
    "import os\n",
    "import numpy as np\n",
    "from scipy.optimize import linear_sum_assignment\n",
    "\n",
    "import torch\n",
    "from torch import nn, optim\n",
    "import torch.nn.functional as F\n",
    "\n",
    "import matplotlib.pyplot as plt\n",
    "\n",
    "torch.set_printoptions(sci_mode = False, precision = 4)"
   ]
  },
  {
   "cell_type": "code",
   "execution_count": null,
   "id": "ced48ba8-2805-4585-ab5b-ade9ada751bc",
   "metadata": {
    "id": "ced48ba8-2805-4585-ab5b-ade9ada751bc"
   },
   "outputs": [],
   "source": [
    "# Hyperparameters\n",
    "class HParams:\n",
    "    def __init__(self):\n",
    "        \n",
    "        self.num_states = 2\n",
    "        self.num_signals = 2\n",
    "        \n",
    "        # Minibatch size\n",
    "        self.batch_size = 2**15\n",
    "        self.num_menus = 1000\n",
    "\n",
    "        # Opt params\n",
    "        self.lr = 1e-3        \n",
    "        self.pi_temp = 0.2\n",
    "        self.u_temp = 0.005\n",
    "                \n",
    "        # Miscellaneous\n",
    "        self.seed = 0\n",
    "                  \n",
    "        self.max_iter = 20000 \n",
    "        self.print_iter = 1000\n",
    "        \n",
    "        self.device = \"cuda\"\n",
    "        \n",
    "        self.tst_num_batches = 1000\n",
    "                \n",
    "# Initialize config\n",
    "cfg = HParams()\n",
    "np.random.seed(cfg.seed)\n",
    "device = \"cuda\"\n",
    "\n",
    "# Utils\n",
    "def torch_var(x): return torch.tensor(x, device = cfg.device)\n",
    "def numpy_var(x): return x.detach().cpu().numpy()"
   ]
  },
  {
   "cell_type": "code",
   "execution_count": null,
   "id": "1c0a8587-65ce-4d94-8a36-5e0de7af75d5",
   "metadata": {
    "id": "1c0a8587-65ce-4d94-8a36-5e0de7af75d5"
   },
   "outputs": [],
   "source": [
    "class RochetNet(torch.nn.Module):\n",
    "    def __init__(self, cfg):\n",
    "        super(RochetNet, self).__init__()\n",
    "        self.num_menus = cfg.num_menus\n",
    "        self.num_states = cfg.num_states\n",
    "        self.num_signals = cfg.num_signals\n",
    "        self.device = cfg.device\n",
    "        \n",
    "        self.pi_temp_inv = torch.tensor(1.0/cfg.pi_temp).to(device)\n",
    "        self.u_temp_inv = torch.tensor(1.0/cfg.u_temp).to(device)\n",
    "        \n",
    "        #  Experiments and payments\n",
    "        self.pi = torch.empty((self.num_menus, self.num_states, self.num_signals), device = self.device, requires_grad = True)\n",
    "        self.pay = torch.empty((self.num_menus), device = self.device, requires_grad = True)\n",
    "        \n",
    "        # For IR constraints\n",
    "        self.pi_0 = torch.empty(1, self.num_states, self.num_signals).to(self.device)\n",
    "        self.pay_0 = torch.empty(1).to(self.device)\n",
    "        \n",
    "        # Initialization\n",
    "        self.reset_parameters()\n",
    "        \n",
    "        \n",
    "    def reset_parameters(self):\n",
    "        \n",
    "        # Initialize pi and pay\n",
    "        nn.init.uniform_(self.pi.data, -1.0, 1.0)\n",
    "        nn.init.zeros_(self.pay.data)\n",
    "                \n",
    "        # Initialize IR menu\n",
    "        nn.init.ones_(self.pi_0.data)\n",
    "        nn.init.zeros_(self.pay_0.data)\n",
    "        self.make_responsive()\n",
    "        \n",
    "    def make_responsive(self):\n",
    "        \n",
    "        pi = numpy_var(self.pi)\n",
    "        for i in range(len(pi)):\n",
    "            _, col_ind = linear_sum_assignment(pi[i], True)\n",
    "            pi[i] = pi[i][:, col_ind]\n",
    "        self.pi = torch.tensor(pi, device = self.device, requires_grad = True)\n",
    "        \n",
    "    def delete_duplicates(self):\n",
    "        \n",
    "        pi_menu, pay_menu = self.get_menu()\n",
    "        pi_menu = numpy_var(pi_menu[:-1])\n",
    "        pay_menu = numpy_var(pay_menu[:-1])\n",
    "\n",
    "        # Sort by prices\n",
    "        pi_menu = np.round(pi_menu, 4)\n",
    "        sort_idx = np.argsort(pay_menu)\n",
    "        pi_menu, pay_menu = pi_menu[sort_idx], pay_menu[sort_idx]\n",
    "\n",
    "        # Select unique\n",
    "        _, unique_idx = np.unique(pi_menu, axis = 0, return_index = True)\n",
    "        pi, pay = numpy_var(self.pi), numpy_var(self.pay)\n",
    "        pi, pay = pi[unique_idx], pay[unique_idx]\n",
    "        prev_num_menus = self.num_menus\n",
    "        self.num_menus = len(unique_idx)\n",
    "        \n",
    "        self.pi = torch.tensor(pi, device = self.device, requires_grad = True)\n",
    "        self.pay = torch.tensor(pay, device = self.device, requires_grad = True)\n",
    "        print(\"Updated num_menus from %d --->: %d\"%(prev_num_menus, self.pi.shape[0]))\n",
    "        \n",
    "    def get_menu(self):\n",
    "        pi_menu = F.softmax(self.pi_temp_inv * torch.cat([self.pi, self.pi_0]), dim = -1)\n",
    "        pay_menu = torch.cat([self.pay, self.pay_0])\n",
    "        return pi_menu, pay_menu\n",
    "    \n",
    "    def forward(self, theta):\n",
    "        pi_menu, pay_menu = self.get_menu()\n",
    "        utility = torch.max(theta[:, None, :, None] * pi_menu, axis = -2)[0].sum(axis = -1) - pay_menu[None, :]\n",
    "        menu_idx = F.softmax( self.u_temp_inv * utility, dim = -1)\n",
    "        rev = menu_idx * pay_menu\n",
    "        return rev.sum(axis = -1)\n",
    "    \n",
    "    def compute_mechanism(self, theta):\n",
    "        pi_menu, pay_menu = self.get_menu()\n",
    "        utility = torch.max(theta[:, None, :, None] * pi_menu, axis = -2)[0].sum(axis = -1) - pay_menu[None, :]\n",
    "        menu_idx = torch.argmax(utility, axis = -1)\n",
    "        return pi_menu[menu_idx], pay_menu[menu_idx]\n",
    "        \n",
    "# Take care of u(theta) = \\max {theta}"
   ]
  },
  {
   "cell_type": "code",
   "execution_count": null,
   "id": "kvO_0muWM4A9",
   "metadata": {
    "id": "kvO_0muWM4A9"
   },
   "outputs": [],
   "source": [
    "def sample_batch(batch_size, a, b, l = 0.5):\n",
    "    T1 = np.random.dirichlet([a, b], batch_size)\n",
    "    T2 = np.random.dirichlet([60, 30], batch_size)\n",
    "    mask = np.random.binomial(1, 1-l, size = (batch_size,1))\n",
    "    return mask * T1 + (1 - mask) * T2"
   ]
  },
  {
   "cell_type": "code",
   "execution_count": null,
   "id": "tEo-oY6xwhx7",
   "metadata": {
    "id": "tEo-oY6xwhx7"
   },
   "outputs": [],
   "source": [
    "'''\n",
    "The following code below is for numerical approximation for finding distributions\n",
    "with the same mode as a given number and the same peak (probability density at mode) \n",
    "as beta(8,30).\n",
    "'''\n",
    "import scipy.special"
   ]
  },
  {
   "cell_type": "code",
   "execution_count": null,
   "id": "Q02tgyfywa7d",
   "metadata": {
    "id": "Q02tgyfywa7d"
   },
   "outputs": [],
   "source": [
    "def calculate_peak(a,b):\n",
    "    mode = (a-1)/(a+b-2)\n",
    "    # Output probability density at the mode\n",
    "    return (1/scipy.special.beta(a,b))*np.power(mode,a-1)*np.power((1-mode),b-1)"
   ]
  },
  {
   "cell_type": "code",
   "execution_count": null,
   "id": "qGgcKKivyJK9",
   "metadata": {
    "id": "qGgcKKivyJK9"
   },
   "outputs": [],
   "source": [
    "def find_b(mode, a):\n",
    "    return (2*mode-1+a*(1-mode))/mode"
   ]
  },
  {
   "cell_type": "code",
   "execution_count": null,
   "id": "xKHWxR0Zzgyt",
   "metadata": {
    "id": "xKHWxR0Zzgyt"
   },
   "outputs": [],
   "source": [
    "def approx(mode):\n",
    "    start = 10\n",
    "    while True:\n",
    "        start += 0.0001\n",
    "        b = find_b(mode, start)\n",
    "        peak = calculate_peak(start,b)\n",
    "        if abs(peak - 6.139114141545872)<0.0001:\n",
    "            return start, b"
   ]
  },
  {
   "cell_type": "code",
   "execution_count": null,
   "id": "14831222-af92-4cca-8986-fab2bd697da8",
   "metadata": {
    "colab": {
     "base_uri": "https://localhost:8080/",
     "height": 448
    },
    "id": "14831222-af92-4cca-8986-fab2bd697da8",
    "outputId": "214bf2a4-3e6b-4a19-a551-72ed56b8b4c7"
   },
   "outputs": [],
   "source": [
    "# Example illustration\n",
    "import seaborn as sns\n",
    "n_samples = 1000000\n",
    "data = sample_batch(n_samples, 8, 30)[:,0]\n",
    "sns.kdeplot(data)\n",
    "data2 = sample_batch(n_samples, 11.781499999995848, 33.34449999998755)[:,0]\n",
    "sns.kdeplot(data2)"
   ]
  },
  {
   "cell_type": "code",
   "execution_count": null,
   "id": "3150ce20-e867-41e7-a356-ac9e9a9e2c91",
   "metadata": {
    "id": "3150ce20-e867-41e7-a356-ac9e9a9e2c91"
   },
   "outputs": [],
   "source": [
    "import time\n",
    "\n",
    "\n",
    "def train(a, b, l=0.5):\n",
    "    tic = time.time()\n",
    "    net = RochetNet(cfg).to(device)\n",
    "    opt = torch.optim.RMSprop([net.pi, net.pay], lr=1e-3)\n",
    "    it = 1\n",
    "\n",
    "    while it <= cfg.max_iter:\n",
    "\n",
    "        opt.zero_grad()\n",
    "        theta = torch_var(sample_batch(cfg.batch_size, a, b, l))\n",
    "        rev = net(theta).mean()\n",
    "        loss = -rev\n",
    "        loss.backward()\n",
    "        opt.step()\n",
    "\n",
    "        if it % cfg.print_iter == 0:\n",
    "            print(\n",
    "                \"[Iter: %d], [Time Elapsed: %.2fs], [Revenue: %.4f]\"\n",
    "                % (it, time.time() - tic, rev.item())\n",
    "            )\n",
    "\n",
    "        if it % 1000 == 0:\n",
    "\n",
    "            # Delete duplicates\n",
    "            net.delete_duplicates()\n",
    "\n",
    "            # Delete unused menus\n",
    "            used_menus = torch_var(np.zeros((net.pi.shape[0] + 1)))\n",
    "            with torch.no_grad():\n",
    "                pi_menu, pay_menu = net.get_menu()\n",
    "                for _ in range(cfg.tst_num_batches):\n",
    "                    theta = torch_var(sample_batch(cfg.batch_size, a, b, l))\n",
    "                    utility = (\n",
    "                        torch.max(theta[:, None, :, None] * pi_menu, axis=-2)[0].sum(\n",
    "                            axis=-1\n",
    "                        )\n",
    "                        - pay_menu[None, :]\n",
    "                    )\n",
    "                    menu_idx = F.softmax(net.u_temp_inv * utility, dim=-1)\n",
    "                    menu_idx.data[menu_idx.data < 0.001] = 0.0\n",
    "                    used_menus += menu_idx.sum(axis=0)\n",
    "\n",
    "                used_menus = used_menus / (cfg.tst_num_batches * cfg.batch_size)\n",
    "\n",
    "                net.pi = net.pi[used_menus[:-1] > 1e-3]\n",
    "                net.pay = net.pay[used_menus[:-1] > 1e-3]\n",
    "\n",
    "            net.pi.requires_grad = True\n",
    "            net.pay.requires_grad = True\n",
    "            net.num_menus = net.pi.shape[0]\n",
    "            print(\"Deleted unused menus. Current: %d\" % (net.num_menus))\n",
    "\n",
    "            opt = torch.optim.RMSprop([net.pi, net.pay], lr=1e-3)\n",
    "\n",
    "        it += 1\n",
    "    with torch.no_grad():\n",
    "        test_revenue = 0.0\n",
    "        for _ in range(cfg.tst_num_batches):\n",
    "            theta = torch_var(sample_batch(cfg.batch_size, a, b, l))\n",
    "            test_revenue += net.compute_mechanism(theta)[1].mean().item()\n",
    "        test_revenue = test_revenue / cfg.tst_num_batches\n",
    "        print(\"[Test Revenue: %.4f]\" % (test_revenue))\n",
    "\n",
    "    print(\n",
    "        f\"The RochetNet output for mixture of Beta({a}, {b}) and Beta(60, 30) with frequency {l} gives the allocation and respective payment: \"\n",
    "    )\n",
    "    pi_menu, pay_menu = net.get_menu()\n",
    "    print(\n",
    "        \"Experiments: \",\n",
    "        pi_menu.detach().cpu().numpy(),\n",
    "        \"Prices: \",\n",
    "        pay_menu.detach().cpu().numpy(),\n",
    "    )\n",
    "    return net\n"
   ]
  },
  {
   "cell_type": "code",
   "execution_count": null,
   "id": "354447d0-f864-4ff8-bb1d-3996eb813b77",
   "metadata": {},
   "outputs": [],
   "source": [
    "'''\n",
    "Below we provide the datapoints used for our experiments\n",
    "'''\n",
    "\n",
    "modes = [\n",
    "    (0.25, (11.781499999986526, 33.34449999995958)),\n",
    "    (0.23, (10.364999999996819, 32.352391304337175)),\n",
    "    (0.21, (9.00749999998833, 31.12345238090848)),\n",
    "    (7/36, (8, 30)),\n",
    "    (0.17, (6.515099999994138, 27.926664705853728)),\n",
    "    (0.15, (5.402799999996731, 25.949199999981474)),\n",
    "    (0.14, (4.885099999997937, 24.865614285701614)),\n",
    "    (0.13, (4.39489999999908, 23.719715384609227)),\n",
    "    (0.11, (3.502500000000216, 21.247500000001754)),\n",
    "    (0.09, (2.736400000001554, 18.556933333349047))\n",
    "]"
   ]
  },
  {
   "cell_type": "code",
   "execution_count": null,
   "id": "718dc33e-47cc-48c6-be34-2a5d03e07195",
   "metadata": {
    "id": "718dc33e-47cc-48c6-be34-2a5d03e07195"
   },
   "outputs": [],
   "source": [
    "def grid_search(modes):\n",
    "    seed = 42\n",
    "    torch.manual_seed(seed)\n",
    "    np.random.seed(seed)\n",
    "    for mode, (alpha, beta) in modes:\n",
    "        precision = abs(mode-0.5)\n",
    "        print(f\"--- Beginning training loop for mode at {mode} and precision of {precision}, frequency = 0.5 ----\")\n",
    "        net = train(alpha, beta, 0.5)\n",
    "        file_name = f\"mode_{mode}_precision_{precision}_freq_0.5.pt\"\n",
    "        torch.save(net, os.path.join(\"experiments\", file_name))\n",
    "\n",
    "grid_search(modes)"
   ]
  },
  {
   "cell_type": "code",
   "execution_count": null,
   "id": "34a2df86-a779-4d39-a8f7-d33e2c0f69b8",
   "metadata": {
    "tags": []
   },
   "outputs": [],
   "source": [
    "# Low type (mode of Beta(a,b)) don't necessarily choose the partially informative experiment\n",
    "# Find out the menu that the mode uses\n",
    "for i in range(len(modes)):  \n",
    "    mode, (alpha, beta) = modes[i]\n",
    "    precision = abs(mode - 0.5)\n",
    "    file_name = f\"mode_{mode}_precision_{precision}_freq_0.5.pt\"\n",
    "    net = torch.load(os.path.join(\"experiments\", file_name))\n",
    "    net.eval()  # Set the network to evaluation mode\n",
    "    pi, pay = net.compute_mechanism(torch_var(np.array([[mode,1-mode]])))\n",
    "    print(f\"In experiment with mode of Beta(a,b) at {mode}, low type uses experiment\", pi)"
   ]
  },
  {
   "cell_type": "code",
   "execution_count": null,
   "id": "c0NhnucdwhFe",
   "metadata": {
    "id": "c0NhnucdwhFe",
    "tags": []
   },
   "outputs": [],
   "source": [
    "def grid_search_lambdas(modes):\n",
    "    seed = 42\n",
    "    torch.manual_seed(seed)\n",
    "    np.random.seed(seed)\n",
    "    l_values = [round(x * 0.05, 2) for x in range(21)]  # Generate l values from 0.00 to 1.00 with a step size of 0.05\n",
    "\n",
    "    alpha_fixed = 8\n",
    "    beta_fixed = 30\n",
    "    for l in l_values:\n",
    "        print(f\"-- Beginning training loop for frequency = {l} ---\")\n",
    "        net = train(alpha_fixed, beta_fixed, l)\n",
    "        file_name = f\"freq_{l}.pt\"\n",
    "        torch.save(net, os.path.join(\"experiments\", file_name))\n",
    "\n",
    "grid_search_lambdas(modes)"
   ]
  },
  {
   "cell_type": "code",
   "execution_count": null,
   "id": "50d68890-3921-47b6-b730-6b28333f0f99",
   "metadata": {
    "tags": []
   },
   "outputs": [],
   "source": [
    "# load all checkpoints\n",
    "l_values = [round(x * 0.05, 2) for x in range(21)]  # Generate l values from 0.00 to 1.00 with a step size of 0.05\n",
    "for l in l_values:\n",
    "    file_name = f\"freq_{l}.pt\"\n",
    "    net = torch.load(file_name)\n",
    "    net.eval()  # Set the network to evaluation mode\n",
    "    pi, pay = net.compute_mechanism(torch_var(np.array([[7/36,1-7/36]])))\n",
    "    print(f\"In experiment with frequency {i*0.05}, low type uses experiment\", pi)"
   ]
  }
 ],
 "metadata": {
  "accelerator": "GPU",
  "colab": {
   "gpuType": "A100",
   "machine_shape": "hm",
   "provenance": []
  },
  "gpuClass": "standard",
  "kernelspec": {
   "display_name": "Python [conda env:.conda-data_markets]",
   "language": "python",
   "name": "conda-env-.conda-data_markets-py"
  },
  "language_info": {
   "codemirror_mode": {
    "name": "ipython",
    "version": 3
   },
   "file_extension": ".py",
   "mimetype": "text/x-python",
   "name": "python",
   "nbconvert_exporter": "python",
   "pygments_lexer": "ipython3",
   "version": "3.8.2"
  }
 },
 "nbformat": 4,
 "nbformat_minor": 5
}
