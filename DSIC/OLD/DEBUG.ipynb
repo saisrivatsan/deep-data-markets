{
 "cells": [
  {
   "cell_type": "code",
   "execution_count": 1,
   "id": "90a42f82-5981-4236-85c2-db2be1c59143",
   "metadata": {},
   "outputs": [],
   "source": [
    "import numpy as np\n",
    "\n",
    "import torch\n",
    "from torch import nn, optim\n",
    "import torch.nn.functional as F\n",
    "\n",
    "import matplotlib.pyplot as plt\n",
    "\n",
    "torch.set_printoptions(sci_mode = False, precision = 4)"
   ]
  },
  {
   "cell_type": "code",
   "execution_count": 2,
   "id": "18a2722d-fb74-4b97-a8b6-e8f3bbc1fe26",
   "metadata": {},
   "outputs": [],
   "source": [
    "# Hyperparameters\n",
    "class HParams:\n",
    "    def __init__(self):\n",
    "        \n",
    "        # Problem params\n",
    "        self.num_agents = 2\n",
    "        self.num_states = 2\n",
    "        self.num_signals = 2\n",
    "        \n",
    "        self.theta = np.array([0.5, 0.5])\n",
    "        self.alpha = 0.5\n",
    "        \n",
    "        # Minibatch size\n",
    "        self.batch_size = 1024\n",
    "        self.num_misreports = 1\n",
    "        \n",
    "        \n",
    "        # Number of layer\n",
    "        self.R = 3\n",
    "        # Number of hidden units\n",
    "        self.K = 200\n",
    "        \n",
    "        # Data - Choose among exp, uniform, assymetric_uniform, irregular\n",
    "        self.distr_type = \"exp\"\n",
    "        \n",
    "        # Opt params\n",
    "        self.lr = 1e-3\n",
    "        \n",
    "        self.gd_lr = 5e-3\n",
    "        self.gd_iter = 100\n",
    "        \n",
    "        # Lagrangian params\n",
    "        self.lag_ic_init = 10\n",
    "        self.lag_up_iter = 100\n",
    "        \n",
    "        self.pho_init = 10\n",
    "        self.pho_increment = 10\n",
    "        self.pho_up_iter = 100\n",
    "        \n",
    "        # Miscellaneous\n",
    "        self.seed = 0\n",
    "                  \n",
    "        self.max_iter = 10000 \n",
    "        self.print_iter = 1000\n",
    "                \n",
    "# Initialize config\n",
    "cfg = HParams()\n",
    "np.random.seed(cfg.seed)\n",
    "\n",
    "# Asserts\n",
    "assert(cfg.num_agents == 2)\n",
    "device = \"cuda\"\n",
    "\n",
    "np.random.seed(cfg.seed)"
   ]
  },
  {
   "cell_type": "code",
   "execution_count": 3,
   "id": "e1901142-ee4b-43ff-98f4-e873b1c52e9a",
   "metadata": {},
   "outputs": [],
   "source": [
    "def sample_batch(batch_size):\n",
    "    shape = (batch_size, cfg.num_agents)\n",
    "    return np.random.exponential(scale=1.0, size=shape)"
   ]
  },
  {
   "cell_type": "code",
   "execution_count": 4,
   "id": "f64e49ab-1323-4a63-93fb-2d1226ee7414",
   "metadata": {},
   "outputs": [],
   "source": [
    "# Utils\n",
    "def torch_var(x): return torch.Tensor(x).to(device)\n",
    "def numpy_var(x): return x.detach().cpu().numpy()"
   ]
  },
  {
   "cell_type": "code",
   "execution_count": 5,
   "id": "5522870a-54bb-40f9-801e-01d1a1a828b8",
   "metadata": {},
   "outputs": [],
   "source": [
    "# TODO: Initializations, Softmax temperatures\n",
    "\n",
    "class ActionNet(nn.Module):      \n",
    "    def __init__(self, cfg):\n",
    "        super(ActionNet, self).__init__()\n",
    "        self.cfg = cfg\n",
    "        \n",
    "        num_agents = self.cfg.num_agents\n",
    "        num_states = self.cfg.num_states\n",
    "        num_signals = self.cfg.num_signals\n",
    "        \n",
    "        num_layers = self.cfg.R\n",
    "        num_hidden_nodes = self.cfg.K\n",
    "        \n",
    "        self.theta = torch_var(self.cfg.theta)[:, None]\n",
    "\n",
    "        self.pi = nn.ModuleList()\n",
    "        \n",
    "        # Input layer\n",
    "        self.pi.append(nn.Linear(num_agents, num_hidden_nodes))\n",
    "        self.pi.append(nn.LeakyReLU())\n",
    "        \n",
    "        # Hidden layers\n",
    "        for i in range(num_layers - 1):\n",
    "            self.pi.append(nn.Linear(num_hidden_nodes, num_hidden_nodes))\n",
    "            self.pi.append(nn.LeakyReLU())\n",
    "         \n",
    "        # Output layer\n",
    "        self.pi.append(nn.Linear(num_hidden_nodes, num_agents * num_states * num_signals))\n",
    "        \n",
    "        for m in self.pi:\n",
    "            if isinstance(m, nn.Linear):\n",
    "                nn.init.xavier_uniform_(m.weight.data, gain = nn.init.calculate_gain('leaky_relu'))\n",
    "                nn.init.constant_(m.bias, 0)\n",
    "\n",
    "    def forward(self, v):\n",
    "        out = v\n",
    "        for module in self.pi: out = module(out)\n",
    "        out = out.view(-1, self.cfg.num_agents, self.cfg.num_states, self.cfg.num_signals)\n",
    "        pi =  F.softmax(out, dim = -1)\n",
    "        return torch.max(pi * self.theta, axis = -2)[0].sum(axis = -1)\n",
    "    \n",
    "    \n",
    "class PayNet(nn.Module):     \n",
    "    def __init__(self, cfg):\n",
    "        super(PayNet, self).__init__()\n",
    "        self.cfg = cfg                \n",
    "        num_agents = self.cfg.num_agents\n",
    "        num_layers = self.cfg.R\n",
    "        num_hidden_nodes = self.cfg.K\n",
    "\n",
    "        self.pay = nn.ModuleList()\n",
    "        \n",
    "        # Input layer\n",
    "        self.pay.append(nn.Linear(num_agents, num_hidden_nodes))\n",
    "        self.pay.append(nn.LeakyReLU())\n",
    "        \n",
    "        # Hidden layers\n",
    "        for i in range(num_layers - 1):\n",
    "            self.pay.append(nn.Linear(num_hidden_nodes, num_hidden_nodes))\n",
    "            self.pay.append(nn.LeakyReLU())\n",
    "         \n",
    "        # Output layer\n",
    "        self.pay.append(nn.Linear(num_hidden_nodes, num_agents))\n",
    "        self.pay.append(nn.Sigmoid())\n",
    "        \n",
    "        for m in self.pay:\n",
    "            if isinstance(m, nn.Linear):\n",
    "                nn.init.xavier_uniform_(m.weight.data, gain = nn.init.calculate_gain('leaky_relu'))\n",
    "                nn.init.constant_(m.bias, 0)\n",
    "        \n",
    "    def forward(self, v):\n",
    "        out = v\n",
    "        for module in self.pay: out = module(out)\n",
    "        return v * out"
   ]
  },
  {
   "cell_type": "code",
   "execution_count": 6,
   "id": "4d0cc0d5-2286-4aaa-9740-1f64a1aa3f0d",
   "metadata": {},
   "outputs": [],
   "source": [
    "def compute_utility(x):\n",
    "    u = (1 + cfg.alpha) * x - cfg.alpha * x.sum(axis = -1, keepdim=True)\n",
    "    return u"
   ]
  },
  {
   "cell_type": "code",
   "execution_count": 7,
   "id": "893b54b6-3543-4735-8e71-96981bd25678",
   "metadata": {},
   "outputs": [],
   "source": [
    "def compute_payments(x, p_frac):\n",
    "    \"\"\"\n",
    "    Computes payments\n",
    "    Args:\n",
    "        x: [Batch, num_agents]\n",
    "    Returns:\n",
    "        pay: [Batch, num_agents]\n",
    "    \"\"\"\n",
    "    \n",
    "    u_in = compute_utility(x)\n",
    "    u_out = (max(cfg.theta) - cfg.alpha)  \n",
    "    return p_frac * (u_in - u_out)"
   ]
  },
  {
   "cell_type": "code",
   "execution_count": 8,
   "id": "8fb0b123-8149-4e9f-8f5d-8965ca6fba06",
   "metadata": {},
   "outputs": [],
   "source": [
    "def compute_misreports_samples(b, v, u):\n",
    "    \n",
    "    ic_viol = torch.zeros(cfg.num_agents).to(device)\n",
    "    \n",
    "    batch_size, num_misreports = b.shape[0], b.shape[1]\n",
    "    v_mis = v[:, None, :].repeat(1, num_misreports, 1)\n",
    "    \n",
    "    \n",
    "    best_b = torch.zeros(batch_size, cfg.num_agents).to(device)\n",
    "    \n",
    "    # Compute IC violation for each agent\n",
    "    for i in range(cfg.num_agents):  \n",
    "        \n",
    "        # Compose misreport of shape: [batch_size, num_misreports, num_agents]\n",
    "        b_mis = torch.cat((v_mis[:, :, :i], b[:, :, i: i + 1], v_mis[:, :, i + 1:]), axis = -1)\n",
    "        b_mis = b_mis.view(-1, cfg.num_agents)\n",
    "        \n",
    "        # Compute action_mis, pay_mis\n",
    "        x_mis = action_net(b_mis)\n",
    "        p_mis = compute_payments(x_mis, pay_net(b_mis))\n",
    "        \n",
    "        \n",
    "        # BS x NM: 12800\n",
    "        w_mis = (1 + cfg.alpha) * x_mis[:, i] - cfg.alpha * x_mis.sum(axis = -1)\n",
    "        u_mis = v_mis[:, :, i].reshape(-1) * w_mis - p_mis[:, i]\n",
    "        u_mis = u_mis.reshape(-1, num_misreports)\n",
    "\n",
    "        u_mis, b_mis_idx = u_mis.max(axis = -1)\n",
    "        best_b[:, i] = b[:, :, i][torch.arange(b.shape[0]), b_mis_idx]\n",
    "        ic_viol[i] += F.relu(u_mis - u[:, i]).mean()\n",
    "        \n",
    "        \n",
    "    return ic_viol, best_b"
   ]
  },
  {
   "cell_type": "code",
   "execution_count": 9,
   "id": "cccfcb25-11fa-4804-8dc2-e99cf5fe8a2b",
   "metadata": {},
   "outputs": [],
   "source": [
    "def compute_misreports_gd(b_var, v, gd_lr = 5e-3, gd_iter = 100):\n",
    "    \n",
    "    # Autograd variables\n",
    "    b_var = b_var.detach().clone()\n",
    "    b_var.requires_grad_(True)\n",
    "    \n",
    "    # Optimizer\n",
    "    opt = torch.optim.Adam([b_var], lr = gd_lr)\n",
    "    \n",
    "    for it in range(gd_iter):\n",
    "        \n",
    "        opt.zero_grad()\n",
    "        u_mis = torch.zeros(cfg.num_agents).to(device)\n",
    "        \n",
    "        for i in range(cfg.num_agents):\n",
    "            \n",
    "            b_mis = torch.cat((v[:, :i], b_var[:, i: i + 1], v[:, i + 1:]), axis = -1)\n",
    "            \n",
    "            x_mis = action_net(b_mis)\n",
    "            p_mis = compute_payments(x_mis, pay_net(b_mis))\n",
    "            \n",
    "            w_mis = (1 + cfg.alpha) * x_mis[:, i] - cfg.alpha * x_mis.sum(axis = -1)\n",
    "            u_mis[i] = (v[:, i] * w_mis - p_mis[:, i]).sum()\n",
    "\n",
    "            \n",
    "        u_mis_loss = (-u_mis.sum())\n",
    "        u_mis_loss.backward(inputs = b_var)\n",
    "        opt.step()        \n",
    "        b_var.data.clamp_(min = 0.0)\n",
    "        \n",
    "        \n",
    "    return b_var.detach().clone()"
   ]
  },
  {
   "cell_type": "code",
   "execution_count": 10,
   "id": "8f41e16b-8245-4022-82c5-5f1c4a5a7c0d",
   "metadata": {},
   "outputs": [],
   "source": [
    "def compute_ic_viol(b_var, v, u):\n",
    "    \n",
    "    ic_viol = torch.zeros(cfg.num_agents).to(device)\n",
    "    \n",
    "    # Compute IC violation for each agent\n",
    "    for i in range(cfg.num_agents):  \n",
    "        \n",
    "        # Compose misreport of shape: [batch_size, num_misreports, num_agents]\n",
    "        b_mis = torch.cat((v[:, :i], b_var[:, i: i + 1], v[:, i + 1:]), axis = -1)\n",
    "        \n",
    "        # Compute action_mis, pay_mis\n",
    "        x_mis = action_net(b_mis)\n",
    "        p_mis = compute_payments(x_mis, pay_net(b_mis))\n",
    "        \n",
    "        w_mis = (1 + cfg.alpha) * x_mis[:, i] - cfg.alpha * x_mis.sum(axis = -1)\n",
    "        u_mis = v[:, i] * w_mis - p_mis[:, i]\n",
    "        ic_viol[i] += F.relu(u_mis - u[:, i]).mean()\n",
    "        \n",
    "    return ic_viol"
   ]
  },
  {
   "cell_type": "code",
   "execution_count": 11,
   "id": "a8e2a3e3-6c3e-4759-9169-9b86b3288396",
   "metadata": {},
   "outputs": [],
   "source": [
    "action_net = ActionNet(cfg).to(device)\n",
    "pay_net = PayNet(cfg).to(device)\n",
    "# Keep in mind that if the distributions are asymetric, we need two different neural networks"
   ]
  },
  {
   "cell_type": "code",
   "execution_count": 13,
   "id": "708c034f-8d53-4fa1-a6bb-c1b6f4afb75d",
   "metadata": {},
   "outputs": [],
   "source": [
    "lag_ic_init = cfg.lag_ic_init\n",
    "w_ic = torch.ones(cfg.num_agents).to(device) * lag_ic_init\n",
    "\n",
    "pho = 10\n",
    "pho_increment = 100\n",
    "\n",
    "opt = torch.optim.Adam(list(action_net.parameters()) + list(pay_net.parameters()), lr=cfg.lr)\n",
    "\n",
    "it = 1"
   ]
  },
  {
   "cell_type": "code",
   "execution_count": 15,
   "id": "100929ff-9541-4af8-ba94-750010e83e2b",
   "metadata": {
    "tags": []
   },
   "outputs": [
    {
     "name": "stdout",
     "output_type": "stream",
     "text": [
      "[Iter: 1000], [Time Elapsed: 10.36s]\n",
      "[Rev: 0.5529], [IC Viol: 0.0014]\n"
     ]
    }
   ],
   "source": [
    "import time\n",
    "tic = time.time()\n",
    "                                  \n",
    "while it <= 1000:\n",
    "    \n",
    "    opt.zero_grad()\n",
    "    \n",
    "    # Get batch\n",
    "    V = sample_batch(cfg.batch_size)\n",
    "    v = torch_var(V)\n",
    "    \n",
    "    x = action_net(v)\n",
    "    pay = compute_payments(x, pay_net(v))\n",
    "    \n",
    "    # Compute Revenue\n",
    "    revenue = pay.sum(axis = -1).mean()\n",
    "    \n",
    "    # Compute IC-Violation\n",
    "    b = torch_var(sample_batch(cfg.batch_size * cfg.num_misreports).reshape(cfg.batch_size, cfg.num_misreports, -1))\n",
    "    _, b_var = compute_misreports_samples(b, v, u)\n",
    "    \n",
    "    \n",
    "    b_var = compute_misreports_gd(b_var, v, gd_lr = cfg.gd_lr, gd_iter = 0*cfg.gd_iter)\n",
    "    \n",
    "    u = v * ((1 + cfg.alpha) * x - cfg.alpha * x.sum(axis = -1, keepdim=True)) - pay\n",
    "    ic_viol = compute_ic_viol(b_var, v, u)\n",
    "     \n",
    "    # Compute Loss\n",
    "    rev_loss = -revenue\n",
    "    lagrangian = torch.dot(w_ic, ic_viol)\n",
    "    penalty = pho * (ic_viol**2).sum()\n",
    "    loss = rev_loss + penalty + lagrangian\n",
    "    \n",
    "    # GD Step\n",
    "    loss.backward()   \n",
    "    opt.step()\n",
    "    \n",
    "    if it % cfg.print_iter == 0:\n",
    "        print(\"[Iter: %d], [Time Elapsed: %.2fs]\"%(it, time.time() - tic))\n",
    "        print(\"[Rev: %.4f], [IC Viol: %.4f]\"%(revenue.sum(), ic_viol.mean().item()))\n",
    "        \n",
    "    if it % cfg.lag_up_iter == 0:\n",
    "        w_ic.data += pho * ic_viol.data\n",
    "        \n",
    "    if it % cfg.pho_up_iter == 0:\n",
    "        pho += pho_increment\n",
    "        \n",
    "    it += 1"
   ]
  },
  {
   "cell_type": "code",
   "execution_count": 20,
   "id": "13f2e563-32b6-4af0-bac5-ab1f4b0da79a",
   "metadata": {},
   "outputs": [],
   "source": [
    "V = sample_batch(cfg.batch_size)\n",
    "v = torch_var(V)\n",
    "    \n",
    "x = action_net(v)\n",
    "pay = compute_payments(x, pay_net(v))\n",
    "    \n",
    "# Compute Revenue\n",
    "revenue = pay.sum(axis = -1).mean()"
   ]
  },
  {
   "cell_type": "code",
   "execution_count": 122,
   "id": "b84bfd26-bfe6-4fed-a233-8d74406a1360",
   "metadata": {},
   "outputs": [],
   "source": [
    "B = np.linspace(0, 2, 1024)[None, :, None]\n",
    "B = np.tile(B, (cfg.batch_size, 1, cfg.num_agents))\n",
    "b = torch_var(B)"
   ]
  },
  {
   "cell_type": "code",
   "execution_count": 123,
   "id": "ab2cf4c0-4539-4e37-a584-6ebabcaa95c1",
   "metadata": {},
   "outputs": [],
   "source": [
    "i = 0"
   ]
  },
  {
   "cell_type": "code",
   "execution_count": 124,
   "id": "bfa7495a-2ef7-4674-8afb-bf31c33d5bea",
   "metadata": {},
   "outputs": [],
   "source": [
    "batch_size, num_misreports = b.shape[0], b.shape[1]\n",
    "v_mis = v[:, None, :].repeat(1, num_misreports, 1)"
   ]
  },
  {
   "cell_type": "code",
   "execution_count": 125,
   "id": "18310f65-43ec-4aba-a3af-6a4b580016c0",
   "metadata": {},
   "outputs": [],
   "source": [
    "v_mis = v[:, None, :].repeat(1, num_misreports, 1)\n",
    "b_mis = torch.cat((v_mis[:, :, :i], b[:, :, i: i + 1], v_mis[:, :, i + 1:]), axis = -1)\n",
    "b_mis = b_mis.view(-1, cfg.num_agents)"
   ]
  },
  {
   "cell_type": "code",
   "execution_count": 126,
   "id": "3cba1f58-1f6c-46bd-b613-b169814b70f9",
   "metadata": {},
   "outputs": [],
   "source": [
    "x_mis = action_net(b_mis)\n",
    "p_mis = compute_payments(x_mis, pay_net(b_mis))\n",
    "w_mis = (1 + cfg.alpha) * x_mis[:, i] - cfg.alpha * x_mis.sum(axis = -1)\n",
    "u_mis = v_mis[:, :, i].reshape(-1) * w_mis - p_mis[:, i]\n",
    "u_mis = u_mis.reshape(-1, num_misreports)"
   ]
  },
  {
   "cell_type": "code",
   "execution_count": 110,
   "id": "0791261f-9b8c-465a-8024-2a10dfb8e11d",
   "metadata": {},
   "outputs": [],
   "source": [
    "b_var = torch_var(np.zeros((batch_size, cfg.num_agents)))\n",
    "    \n",
    "    \n",
    "b_var = b_var.detach().clone()\n",
    "b_var.requires_grad_(True)\n",
    "\n",
    "# Optimizer\n",
    "opt = torch.optim.Adam([b_var], lr = cfg.gd_lr)\n",
    "\n",
    "hist_u, hist_b = [], []\n",
    "\n",
    "for it in range(cfg.gd_iter * 10):\n",
    "\n",
    "    opt.zero_grad()\n",
    "    u_mis = torch.zeros(cfg.num_agents).to(device)\n",
    "\n",
    "    b_mis = torch.cat((v[:, :i], b_var[:, i: i + 1], v[:, i + 1:]), axis = -1)\n",
    "\n",
    "    x_mis = action_net(b_mis)\n",
    "    p_mis = compute_payments(x_mis, pay_net(b_mis))\n",
    "\n",
    "    w_mis = (1 + cfg.alpha) * x_mis[:, i] - cfg.alpha * x_mis.sum(axis = -1)\n",
    "    u_mis = (v[:, i] * w_mis - p_mis[:, i])\n",
    "\n",
    "    hist_u.append(numpy_var(u_mis))\n",
    "    hist_b.append(numpy_var(b_var))\n",
    "    u_mis_loss = (-u_mis.sum())\n",
    "    u_mis_loss.backward(inputs = b_var)\n",
    "    opt.step()        \n",
    "    b_var.data.clamp_(min = 0.0)"
   ]
  },
  {
   "cell_type": "code",
   "execution_count": 111,
   "id": "7aed5dfa-f9af-40c2-9948-d119b06ecd03",
   "metadata": {},
   "outputs": [],
   "source": [
    "hist_u = np.array(hist_u)\n",
    "hist_b = np.array(hist_b)"
   ]
  },
  {
   "cell_type": "code",
   "execution_count": 112,
   "id": "933afb60-618d-4cf1-97c6-916843c07ade",
   "metadata": {},
   "outputs": [],
   "source": [
    "hist_u = hist_u.T\n",
    "hist_b = hist_b[:, :, 0].T"
   ]
  },
  {
   "cell_type": "code",
   "execution_count": 127,
   "id": "a13d4b7d-aeb9-45c0-974c-7d2baa836ae0",
   "metadata": {},
   "outputs": [],
   "source": [
    "UM = numpy_var(u_mis)"
   ]
  },
  {
   "cell_type": "code",
   "execution_count": 128,
   "id": "aaee9447-155f-4712-b082-f8bc5a24ded7",
   "metadata": {},
   "outputs": [],
   "source": [
    "idx = 10"
   ]
  },
  {
   "cell_type": "code",
   "execution_count": 129,
   "id": "87e464be-1e25-4b11-bb1a-a135b6fcc361",
   "metadata": {},
   "outputs": [
    {
     "data": {
      "text/plain": [
       "(1024, 1024)"
      ]
     },
     "execution_count": 129,
     "metadata": {},
     "output_type": "execute_result"
    }
   ],
   "source": [
    "UM.shape"
   ]
  },
  {
   "cell_type": "code",
   "execution_count": 167,
   "id": "03370954-c4bc-441d-a417-c00fd77b6cfa",
   "metadata": {},
   "outputs": [
    {
     "data": {
      "image/png": "[encoded data removed]",
      "text/plain": [
       "<Figure size 432x288 with 1 Axes>"
      ]
     },
     "metadata": {
      "needs_background": "light"
     },
     "output_type": "display_data"
    }
   ],
   "source": [
    "plt.plot(B[idx, :, i], UM[idx])\n",
    "plt.plot(hist_b[idx], hist_u[idx])\n",
    "plt.plot(hist_b[idx, 0], hist_u[idx, 0], \".\")\n",
    "plt.plot(hist_b[idx, -1], hist_u[idx, -1], \"x\")\n",
    "idx += 1"
   ]
  },
  {
   "cell_type": "code",
   "execution_count": 64,
   "id": "ab891bf9-bd62-4dc1-938d-c5c0fb5ce372",
   "metadata": {},
   "outputs": [
    {
     "data": {
      "text/plain": [
       "[<matplotlib.lines.Line2D at 0x2b340ef41e50>]"
      ]
     },
     "execution_count": 64,
     "metadata": {},
     "output_type": "execute_result"
    },
    {
     "data": {
      "image/png": "[encoded data removed]",
      "text/plain": [
       "<Figure size 432x288 with 1 Axes>"
      ]
     },
     "metadata": {
      "needs_background": "light"
     },
     "output_type": "display_data"
    }
   ],
   "source": [
    "plt.plot(numpy_var(u_mis)\n",
    "plt.plot(hist_b[0], hist_u[0])"
   ]
  },
  {
   "cell_type": "code",
   "execution_count": null,
   "id": "592245f8-4df1-4df4-8c5b-889be6099750",
   "metadata": {},
   "outputs": [],
   "source": []
  },
  {
   "cell_type": "code",
   "execution_count": null,
   "id": "1f38a423-73cb-4be3-9f28-c277630009ee",
   "metadata": {},
   "outputs": [],
   "source": []
  },
  {
   "cell_type": "code",
   "execution_count": null,
   "id": "88308f89-6c1b-4ce7-bcdc-ce89d195a6a3",
   "metadata": {},
   "outputs": [],
   "source": []
  },
  {
   "cell_type": "code",
   "execution_count": 17,
   "id": "57f254e0-3213-4118-9439-48362ac8e465",
   "metadata": {},
   "outputs": [
    {
     "name": "stdout",
     "output_type": "stream",
     "text": [
      "Rev: 0.5358, IC_viol: 0.0170, OPT_REV: 0.4043\n"
     ]
    }
   ],
   "source": [
    "# Optimal\n",
    "def phi(v): return v - 1\n",
    "def phi_inv(v): return v + 1\n",
    "\n",
    "alpha = cfg.alpha\n",
    "theta = cfg.theta\n",
    "\n",
    "def compute_opt_payment(V): \n",
    "    theta = max(cfg.theta)\n",
    "    P = np.zeros(V.shape)\n",
    "    for i in range(len(V)):\n",
    "        v1, v2 = V[i]\n",
    "        r1 = max(0, phi_inv(1/cfg.alpha * phi(v2)))\n",
    "        r2 = max(0, phi_inv(cfg.alpha * phi(v2)))\n",
    "        if v2 <= phi_inv(0):\n",
    "            P[i, 0] += (r2 * (v1 >= r2) + r1 * cfg.alpha * (v1 >= r1)) * (1 - theta)\n",
    "        else:\n",
    "            P[i, 0] += (r1 * cfg.alpha * (v1 >= r1) + r2 * (v1 >= r2)) * (1 - theta)\n",
    "            \n",
    "        v2, v1 = V[i]\n",
    "        r1 = max(0, phi_inv(1/cfg.alpha * phi(v2)))\n",
    "        r2 = max(0, phi_inv(cfg.alpha * phi(v2)))\n",
    "        if v2 <= phi_inv(0):\n",
    "            P[i, 1] += (r2 * (v1 >= r2) + r1 * cfg.alpha * (v1 >= r1)) * (1 - theta)\n",
    "        else:\n",
    "            P[i, 1] += (r1 * cfg.alpha * (v1 >= r1) + r2 * (v1 >= r2)) * (1 - theta)\n",
    "    return P\n",
    "\n",
    "\n",
    "cfg.num_misreports = 1024\n",
    "with torch.no_grad():\n",
    "    num_val_batches = 200\n",
    "    REV = 0\n",
    "    IC_viol = 0   \n",
    "    OPT_REV = 0\n",
    "    \n",
    "    for i in range(num_val_batches):\n",
    "        \n",
    "        V = sample_batch(cfg.batch_size)\n",
    "        v = torch_var(V)\n",
    "        \n",
    "        x = action_net(v)\n",
    "        pay = compute_payments(x, pay_net(v))\n",
    "        \n",
    "        b = torch_var(sample_batch(cfg.batch_size * cfg.num_misreports).reshape(cfg.batch_size, cfg.num_misreports, -1))\n",
    "        _, b_var = compute_misreports_samples(b, v, u)\n",
    "    \n",
    "    \n",
    "        b_var = compute_misreports_gd(b_var, v, gd_lr = cfg.gd_lr, gd_iter = 0*cfg.gd_iter)\n",
    "    \n",
    "        u = v * ((1 + cfg.alpha) * x - cfg.alpha * x.sum(axis = -1, keepdim=True)) - pay\n",
    "        ic_viol = compute_ic_viol(b_var, v, u)\n",
    "    \n",
    "\n",
    "        revenue = pay.sum(-1).mean()   \n",
    "        \n",
    "        REV += revenue.item()\n",
    "        IC_viol += ic_viol.mean().item()\n",
    "        OPT_REV += compute_opt_payment(V).sum(-1).mean()\n",
    "        \n",
    "    OPT_REV = OPT_REV/num_val_batches\n",
    "    REV = REV/num_val_batches\n",
    "    IC_viol = IC_viol/num_val_batches\n",
    "    \n",
    "print(\"Rev: %.4f, IC_viol: %.4f, OPT_REV: %.4f\"%(REV, IC_viol, OPT_REV))"
   ]
  },
  {
   "cell_type": "code",
   "execution_count": 18,
   "id": "2c22f1e6-7d2a-49b5-94fa-71802d903559",
   "metadata": {},
   "outputs": [
    {
     "data": {
      "image/png": "[encoded data removed]",
      "text/plain": [
       "<Figure size 648x288 with 4 Axes>"
      ]
     },
     "metadata": {
      "needs_background": "light"
     },
     "output_type": "display_data"
    }
   ],
   "source": [
    "v = torch_var(np.linspace(0, 2, 201))\n",
    "v_mesh = torch.stack(torch.meshgrid(v, v, indexing = \"ij\"), axis = -1)\n",
    "x_mesh = action_net(v_mesh.view(-1, 2)).view(201, 201, 2)\n",
    "AM = numpy_var(x_mesh)\n",
    "\n",
    "fig, ax = plt.subplots(ncols = 2, nrows = 1, figsize=(9,4))\n",
    "\n",
    "img_1 = ax[0].imshow(AM[:, :, 0].transpose(1,0), extent=[0,2,0,2], vmin = 0.0, vmax=1.0, cmap = 'YlOrRd', origin = \"lower\")\n",
    "plt.colorbar(img_1, ax = ax[0], fraction=0.046, pad=0.04)\n",
    "\n",
    "img_2 = ax[1].imshow(AM[:, :, 1].transpose(1,0), extent=[0,2,0,2], vmin = 0.0, vmax=1.0, cmap = 'YlOrRd', origin = \"lower\")\n",
    "plt.colorbar(img_2, ax = ax[1], fraction=0.046, pad=0.04)\n",
    "\n",
    "\n",
    "\n",
    "ax[0].plot([0.5, 1.5],[0, 2],color='black')\n",
    "ax[1].plot([0, 2], [0.5, 1.5], color='black')\n",
    "\n",
    "ax[0].set_xlabel(\"$v_1$\")\n",
    "ax[0].set_ylabel(\"$v_2$\")\n",
    "ax[1].set_xlabel(\"$v_1$\")\n",
    "ax[1].set_ylabel(\"$v_2$\")\n",
    "\n",
    "fig.text(0.5, 1, r\"Exponential, $\\alpha=%.2f, \\theta=%.2f$\"%(cfg.alpha, max(cfg.theta)), ha='center', size = 16)\n",
    "fig.tight_layout()"
   ]
  },
  {
   "cell_type": "code",
   "execution_count": 19,
   "id": "74ebcb2f-ec2a-4e83-b7a4-d243cf04fb10",
   "metadata": {},
   "outputs": [
    {
     "data": {
      "image/png": "[encoded data removed]",
      "text/plain": [
       "<Figure size 648x288 with 4 Axes>"
      ]
     },
     "metadata": {
      "needs_background": "light"
     },
     "output_type": "display_data"
    }
   ],
   "source": [
    "pay = compute_payments(action_net(v_mesh.view(-1, 2)), pay_net(v_mesh.view(-1, 2))).view(201, 201, 2)\n",
    "AM = numpy_var(pay)\n",
    "\n",
    "fig, ax = plt.subplots(ncols = 2, nrows = 1, figsize=(9,4))\n",
    "\n",
    "img_1 = ax[0].imshow(AM[:, :, 0].transpose(1,0), extent=[0,2,0,2], vmin = 0.0, vmax=1.0, cmap = 'YlOrRd', origin = \"lower\")\n",
    "plt.colorbar(img_1, ax = ax[0], fraction=0.046, pad=0.04)\n",
    "\n",
    "img_2 = ax[1].imshow(AM[:, :, 1].transpose(1,0), extent=[0,2,0,2], vmin = 0.0, vmax=1.0, cmap = 'YlOrRd', origin = \"lower\")\n",
    "plt.colorbar(img_2, ax = ax[1], fraction=0.046, pad=0.04)\n",
    "\n",
    "\n",
    "\n",
    "ax[0].plot([0.5, 1.5],[0, 2],color='black')\n",
    "ax[1].plot([0, 2], [0.5, 1.5], color='black')\n",
    "\n",
    "ax[0].set_xlabel(\"$v_1$\")\n",
    "ax[0].set_ylabel(\"$v_2$\")\n",
    "ax[1].set_xlabel(\"$v_1$\")\n",
    "ax[1].set_ylabel(\"$v_2$\")\n",
    "\n",
    "fig.text(0.5, 1, r\"Exponential, $\\alpha=%.2f, \\theta=%.2f$\"%(cfg.alpha, max(cfg.theta)), ha='center', size = 16)\n",
    "fig.tight_layout()"
   ]
  },
  {
   "cell_type": "code",
   "execution_count": null,
   "id": "e30cab45-24d4-4e4d-becc-a9073cea18c0",
   "metadata": {},
   "outputs": [],
   "source": []
  }
 ],
 "metadata": {
  "kernelspec": {
   "display_name": "Python [conda env:.conda-data_markets]",
   "language": "python",
   "name": "conda-env-.conda-data_markets-py"
  },
  "language_info": {
   "codemirror_mode": {
    "name": "ipython",
    "version": 3
   },
   "file_extension": ".py",
   "mimetype": "text/x-python",
   "name": "python",
   "nbconvert_exporter": "python",
   "pygments_lexer": "ipython3",
   "version": "3.8.2"
  }
 },
 "nbformat": 4,
 "nbformat_minor": 5
}
