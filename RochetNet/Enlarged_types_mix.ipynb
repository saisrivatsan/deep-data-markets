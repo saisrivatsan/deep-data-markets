{
 "cells": [
  {
   "cell_type": "code",
   "execution_count": 1,
   "id": "6eeb1910-1d87-4b22-ab93-b757826befa7",
   "metadata": {
    "id": "6eeb1910-1d87-4b22-ab93-b757826befa7",
    "tags": []
   },
   "outputs": [],
   "source": [
    "import numpy as np\n",
    "from scipy.optimize import linear_sum_assignment\n",
    "\n",
    "import torch\n",
    "from torch import nn, optim\n",
    "import torch.nn.functional as F\n",
    "\n",
    "import matplotlib.pyplot as plt\n",
    "\n",
    "torch.set_printoptions(sci_mode = False, precision = 4)"
   ]
  },
  {
   "cell_type": "code",
   "execution_count": 2,
   "id": "ced48ba8-2805-4585-ab5b-ade9ada751bc",
   "metadata": {
    "id": "ced48ba8-2805-4585-ab5b-ade9ada751bc",
    "tags": []
   },
   "outputs": [],
   "source": [
    "# Hyperparameters\n",
    "class HParams:\n",
    "    def __init__(self):\n",
    "        \n",
    "        self.num_states = 2\n",
    "        self.num_signals = 2\n",
    "        \n",
    "        # Minibatch size\n",
    "        self.batch_size = 2**15\n",
    "        self.num_menus = 1000\n",
    "\n",
    "        # Opt params\n",
    "        self.lr = 5e-4        \n",
    "        self.pi_temp = 0.2\n",
    "        self.u_temp = 0.005\n",
    "        \n",
    "        \n",
    "        self.v_L = 0.75\n",
    "        self.v_H = 1.0\n",
    "        \n",
    "        self.theta_type = \"mix\"\n",
    "                \n",
    "        # Miscellaneous\n",
    "        self.seed = 0\n",
    "                  \n",
    "        self.max_iter = 20000 \n",
    "        self.print_iter = 1000\n",
    "        \n",
    "        self.device = \"cuda\"\n",
    "        \n",
    "        self.tst_num_batches = 1000\n",
    "                \n",
    "# Initialize config\n",
    "cfg = HParams()\n",
    "np.random.seed(cfg.seed)\n",
    "device = \"cuda\"\n",
    "\n",
    "# Utils\n",
    "def torch_var(x): return torch.tensor(x, device = cfg.device)\n",
    "def numpy_var(x): return x.detach().cpu().numpy()"
   ]
  },
  {
   "cell_type": "code",
   "execution_count": 3,
   "id": "32011cc8-2420-4083-aede-dc3d9af5f73f",
   "metadata": {},
   "outputs": [],
   "source": [
    "if cfg.theta_type == \"mix\":\n",
    "    def sample_theta(batch_size):\n",
    "        T1 = np.random.dirichlet([8, 30], batch_size)\n",
    "        T2 = np.random.dirichlet([60, 30], batch_size)\n",
    "        mask = np.random.binomial(1, 0.5, size = (batch_size,1))\n",
    "        return mask * T1 + (1 - mask) * T2\n",
    "else:\n",
    "    def sample_theta(batch_size):\n",
    "        return np.random.dirichlet([1, 1], batch_size)\n",
    "        \n",
    "\n",
    "def sample_value(batchsize):\n",
    "    return np.random.uniform(cfg.v_L, cfg.v_H, size=batchsize)"
   ]
  },
  {
   "cell_type": "code",
   "execution_count": 4,
   "id": "1c0a8587-65ce-4d94-8a36-5e0de7af75d5",
   "metadata": {
    "id": "1c0a8587-65ce-4d94-8a36-5e0de7af75d5",
    "tags": []
   },
   "outputs": [],
   "source": [
    "class RochetNet(torch.nn.Module):\n",
    "    def __init__(self, cfg):\n",
    "        super(RochetNet, self).__init__()\n",
    "        self.num_menus = cfg.num_menus\n",
    "        self.num_states = cfg.num_states\n",
    "        self.num_signals = cfg.num_signals\n",
    "        self.device = cfg.device\n",
    "        \n",
    "        self.pi_temp_inv = torch.tensor(1.0/cfg.pi_temp).to(device)\n",
    "        self.u_temp_inv = torch.tensor(1.0/cfg.u_temp).to(device)\n",
    "        \n",
    "        #  Experiments and payments\n",
    "        self.pi = torch.empty((self.num_menus, self.num_states, self.num_signals), device = self.device, requires_grad = True)\n",
    "        self.pay = torch.empty((self.num_menus), device = self.device, requires_grad = True)\n",
    "        \n",
    "        # For IR constraints\n",
    "        self.pi_0 = torch.empty(1, self.num_states, self.num_signals).to(self.device)\n",
    "        self.pay_0 = torch.empty(1).to(self.device)\n",
    "        \n",
    "        # Initialization\n",
    "        self.reset_parameters()\n",
    "        \n",
    "        \n",
    "    def reset_parameters(self):\n",
    "        \n",
    "        # Initialize pi and pay\n",
    "        nn.init.uniform_(self.pi.data, -1.0, 1.0)\n",
    "        nn.init.zeros_(self.pay.data)\n",
    "                \n",
    "        # Initialize IR menu\n",
    "        nn.init.ones_(self.pi_0.data)\n",
    "        nn.init.zeros_(self.pay_0.data)\n",
    "        self.make_responsive()\n",
    "        \n",
    "    def make_responsive(self):\n",
    "        \n",
    "        pi = numpy_var(self.pi)\n",
    "        for i in range(len(pi)):\n",
    "            _, col_ind = linear_sum_assignment(pi[i], True)\n",
    "            pi[i] = pi[i][:, col_ind]\n",
    "        self.pi = torch.tensor(pi, device = self.device, requires_grad = True)\n",
    "        \n",
    "    def delete_duplicates(self):\n",
    "        \n",
    "        pi_menu, pay_menu = self.get_menu()\n",
    "        pi_menu = numpy_var(pi_menu[:-1])\n",
    "        pay_menu = numpy_var(pay_menu[:-1])\n",
    "\n",
    "        # Sort by prices\n",
    "        pi_menu = np.round(pi_menu, 4)\n",
    "        sort_idx = np.argsort(pay_menu)\n",
    "        pi_menu, pay_menu = pi_menu[sort_idx], pay_menu[sort_idx]\n",
    "\n",
    "        # Select unique\n",
    "        _, unique_idx = np.unique(pi_menu, axis = 0, return_index = True)\n",
    "        pi, pay = numpy_var(self.pi), numpy_var(self.pay)\n",
    "        pi, pay = pi[unique_idx], pay[unique_idx]\n",
    "        prev_num_menus = self.num_menus\n",
    "        self.num_menus = len(unique_idx)\n",
    "        \n",
    "        self.pi = torch.tensor(pi, device = self.device, requires_grad = True)\n",
    "        self.pay = torch.tensor(pay, device = self.device, requires_grad = True)\n",
    "        print(\"Updated num_menus from %d --->: %d\"%(prev_num_menus, self.pi.shape[0]))\n",
    "        \n",
    "    def get_menu(self):\n",
    "        pi_menu = F.softmax(self.pi_temp_inv * torch.cat([self.pi, self.pi_0]), dim = -1)\n",
    "        pay_menu = torch.cat([self.pay, self.pay_0])\n",
    "        return pi_menu, pay_menu\n",
    "    \n",
    "    def forward(self, theta, value):\n",
    "        pi_menu, pay_menu = self.get_menu()\n",
    "        utility = torch.max(theta[:, None, :, None] * pi_menu, axis = -2)[0].sum(axis = -1)*value - pay_menu[None, :]\n",
    "        menu_idx = F.softmax( self.u_temp_inv * utility, dim = -1)\n",
    "        rev = menu_idx * pay_menu\n",
    "        return rev.sum(axis = -1)\n",
    "    \n",
    "    def compute_mechanism(self, theta, value):\n",
    "        pi_menu, pay_menu = self.get_menu()\n",
    "        utility = torch.max(theta[:, None, :, None] * pi_menu, axis = -2)[0].sum(axis = -1)*value - pay_menu[None, :]\n",
    "        menu_idx = torch.argmax(utility, axis = -1)\n",
    "        return pi_menu[menu_idx], pay_menu[menu_idx]\n",
    "        "
   ]
  },
  {
   "cell_type": "code",
   "execution_count": 5,
   "id": "14831222-af92-4cca-8986-fab2bd697da8",
   "metadata": {
    "colab": {
     "base_uri": "https://localhost:8080/",
     "height": 450
    },
    "id": "14831222-af92-4cca-8986-fab2bd697da8",
    "outputId": "faddb8ec-e520-4006-a176-1bc65f05117f",
    "tags": []
   },
   "outputs": [
    {
     "data": {
      "text/plain": [
       "<matplotlib.axes._subplots.AxesSubplot at 0x2aed8c2bbdf0>"
      ]
     },
     "execution_count": 5,
     "metadata": {},
     "output_type": "execute_result"
    },
    {
     "data": {
      "image/png": "[encoded data removed]",
      "text/plain": [
       "<Figure size 432x288 with 1 Axes>"
      ]
     },
     "metadata": {
      "needs_background": "light"
     },
     "output_type": "display_data"
    }
   ],
   "source": [
    "import seaborn as sns\n",
    "n_samples = 1000000\n",
    "data = sample_theta(n_samples)[:,0]\n",
    "sns.kdeplot(data)"
   ]
  },
  {
   "cell_type": "code",
   "execution_count": 6,
   "id": "665f50ad-3eff-46b0-9734-1815d18003ae",
   "metadata": {
    "id": "665f50ad-3eff-46b0-9734-1815d18003ae",
    "tags": []
   },
   "outputs": [],
   "source": [
    "net = RochetNet(cfg).to(device)\n",
    "opt = torch.optim.RMSprop([net.pi, net.pay], lr = 1e-3)\n",
    "it = 1"
   ]
  },
  {
   "cell_type": "code",
   "execution_count": 7,
   "id": "3150ce20-e867-41e7-a356-ac9e9a9e2c91",
   "metadata": {
    "colab": {
     "base_uri": "https://localhost:8080/"
    },
    "id": "3150ce20-e867-41e7-a356-ac9e9a9e2c91",
    "outputId": "9371036e-885f-4630-a832-ca6e73528484",
    "tags": []
   },
   "outputs": [
    {
     "name": "stdout",
     "output_type": "stream",
     "text": [
      "[Iter: 1000], [Time Elapsed: 13.21s], [Revenue: 0.1607]\n",
      "Updated num_menus from 1000 --->: 781\n",
      "Deleted unused menus. Current: 193\n",
      "[Iter: 2000], [Time Elapsed: 35.19s], [Revenue: 0.1582]\n",
      "Updated num_menus from 193 --->: 4\n",
      "Deleted unused menus. Current: 4\n",
      "[Iter: 3000], [Time Elapsed: 56.77s], [Revenue: 0.1425]\n",
      "Updated num_menus from 4 --->: 3\n",
      "Deleted unused menus. Current: 3\n",
      "[Iter: 4000], [Time Elapsed: 78.80s], [Revenue: 0.1421]\n",
      "Updated num_menus from 3 --->: 3\n",
      "Deleted unused menus. Current: 3\n",
      "[Iter: 5000], [Time Elapsed: 99.99s], [Revenue: 0.1425]\n",
      "Updated num_menus from 3 --->: 3\n",
      "Deleted unused menus. Current: 3\n",
      "[Iter: 6000], [Time Elapsed: 121.11s], [Revenue: 0.1414]\n",
      "Updated num_menus from 3 --->: 2\n",
      "Deleted unused menus. Current: 2\n",
      "[Iter: 7000], [Time Elapsed: 143.11s], [Revenue: 0.1406]\n",
      "Updated num_menus from 2 --->: 2\n",
      "Deleted unused menus. Current: 2\n",
      "[Iter: 8000], [Time Elapsed: 165.18s], [Revenue: 0.1411]\n",
      "Updated num_menus from 2 --->: 2\n",
      "Deleted unused menus. Current: 2\n",
      "[Iter: 9000], [Time Elapsed: 186.23s], [Revenue: 0.1409]\n",
      "Updated num_menus from 2 --->: 2\n",
      "Deleted unused menus. Current: 2\n",
      "[Iter: 10000], [Time Elapsed: 209.53s], [Revenue: 0.1408]\n",
      "Updated num_menus from 2 --->: 2\n",
      "Deleted unused menus. Current: 2\n",
      "[Iter: 11000], [Time Elapsed: 232.27s], [Revenue: 0.1408]\n",
      "Updated num_menus from 2 --->: 2\n",
      "Deleted unused menus. Current: 2\n",
      "[Iter: 12000], [Time Elapsed: 253.38s], [Revenue: 0.1409]\n",
      "Updated num_menus from 2 --->: 2\n",
      "Deleted unused menus. Current: 2\n",
      "[Iter: 13000], [Time Elapsed: 275.00s], [Revenue: 0.1413]\n",
      "Updated num_menus from 2 --->: 2\n",
      "Deleted unused menus. Current: 2\n",
      "[Iter: 14000], [Time Elapsed: 296.68s], [Revenue: 0.1403]\n",
      "Updated num_menus from 2 --->: 2\n",
      "Deleted unused menus. Current: 2\n",
      "[Iter: 15000], [Time Elapsed: 319.17s], [Revenue: 0.1405]\n",
      "Updated num_menus from 2 --->: 2\n",
      "Deleted unused menus. Current: 2\n",
      "[Iter: 16000], [Time Elapsed: 341.14s], [Revenue: 0.1401]\n",
      "Updated num_menus from 2 --->: 2\n",
      "Deleted unused menus. Current: 2\n",
      "[Iter: 17000], [Time Elapsed: 362.96s], [Revenue: 0.1405]\n",
      "Updated num_menus from 2 --->: 2\n",
      "Deleted unused menus. Current: 2\n",
      "[Iter: 18000], [Time Elapsed: 383.23s], [Revenue: 0.1407]\n",
      "Updated num_menus from 2 --->: 2\n",
      "Deleted unused menus. Current: 2\n",
      "[Iter: 19000], [Time Elapsed: 405.24s], [Revenue: 0.1412]\n",
      "Updated num_menus from 2 --->: 2\n",
      "Deleted unused menus. Current: 2\n",
      "[Iter: 20000], [Time Elapsed: 426.54s], [Revenue: 0.1407]\n",
      "Updated num_menus from 2 --->: 2\n",
      "Deleted unused menus. Current: 2\n"
     ]
    }
   ],
   "source": [
    "import time\n",
    "tic = time.time()\n",
    "                                  \n",
    "while it <= cfg.max_iter:\n",
    "    \n",
    "    opt.zero_grad()\n",
    "    theta = torch_var(sample_theta(cfg.batch_size))\n",
    "    value = torch_var(sample_value(cfg.batch_size)).reshape(-1,1)\n",
    "    rev = net(theta,value).mean()\n",
    "    loss = -rev\n",
    "    loss.backward()   \n",
    "    opt.step()\n",
    "    \n",
    "    if it % cfg.print_iter == 0:\n",
    "        print(\"[Iter: %d], [Time Elapsed: %.2fs], [Revenue: %.4f]\"%(it, time.time() - tic, rev.item()))\n",
    "    \n",
    "    if it % 1000 == 0:\n",
    "        \n",
    "        # Delete duplicates\n",
    "        net.delete_duplicates()\n",
    "        \n",
    "        # Delete unused menus\n",
    "        used_menus = torch_var(np.zeros((net.pi.shape[0] + 1)))\n",
    "        with torch.no_grad():\n",
    "            pi_menu, pay_menu = net.get_menu()\n",
    "            for _ in range(cfg.tst_num_batches):\n",
    "                theta = torch_var(sample_theta(cfg.batch_size))\n",
    "                utility = torch.max(theta[:, None, :, None] * pi_menu, axis = -2)[0].sum(axis = -1)*value - pay_menu[None, :]\n",
    "                menu_idx = F.softmax(net.u_temp_inv * utility, dim = -1)\n",
    "                menu_idx.data[menu_idx.data < 0.001] = 0.0\n",
    "                used_menus += menu_idx.sum(axis = 0)\n",
    "\n",
    "            used_menus = used_menus/(cfg.tst_num_batches * cfg.batch_size)\n",
    "    \n",
    "            net.pi = net.pi[used_menus[:-1] > 1e-3]\n",
    "            net.pay = net.pay[used_menus[:-1] > 1e-3]\n",
    "        \n",
    "        net.pi.requires_grad = True\n",
    "        net.pay.requires_grad = True\n",
    "        net.num_menus = net.pi.shape[0]\n",
    "        print(\"Deleted unused menus. Current: %d\"%(net.num_menus))\n",
    "        \n",
    "        opt = torch.optim.RMSprop([net.pi, net.pay], lr = 1e-3)\n",
    "        \n",
    "    it += 1"
   ]
  },
  {
   "cell_type": "code",
   "execution_count": 8,
   "id": "f5d7056f-b1ee-437e-9d7a-e63734089f79",
   "metadata": {
    "id": "f5d7056f-b1ee-437e-9d7a-e63734089f79",
    "tags": []
   },
   "outputs": [
    {
     "name": "stdout",
     "output_type": "stream",
     "text": [
      "[Test Revenue: 0.1422]\n"
     ]
    }
   ],
   "source": [
    "with torch.no_grad():\n",
    "    test_revenue = 0.0\n",
    "    for _ in range(cfg.tst_num_batches):\n",
    "        theta = torch_var(sample_theta(cfg.batch_size))\n",
    "        value = torch_var(sample_value(cfg.batch_size)).reshape(-1,1)\n",
    "        test_revenue += net.compute_mechanism(theta, value)[1].mean().item()\n",
    "    test_revenue = test_revenue/cfg.tst_num_batches\n",
    "    print(\"[Test Revenue: %.4f]\"%(test_revenue))"
   ]
  },
  {
   "cell_type": "code",
   "execution_count": 9,
   "id": "718dc33e-47cc-48c6-be34-2a5d03e07195",
   "metadata": {
    "id": "718dc33e-47cc-48c6-be34-2a5d03e07195",
    "tags": []
   },
   "outputs": [],
   "source": [
    "pi_menu, pay_menu = net.get_menu()"
   ]
  },
  {
   "cell_type": "code",
   "execution_count": 10,
   "id": "abe2bdc1-514f-44f6-9ea0-2497e42494bb",
   "metadata": {
    "colab": {
     "base_uri": "https://localhost:8080/"
    },
    "id": "abe2bdc1-514f-44f6-9ea0-2497e42494bb",
    "outputId": "7497caf4-439b-4943-e347-5c85878d2ba1",
    "tags": []
   },
   "outputs": [
    {
     "data": {
      "text/plain": [
       "(tensor([[[    1.0000,     0.0000],\n",
       "          [    0.0000,     1.0000]],\n",
       " \n",
       "         [[    0.7800,     0.2200],\n",
       "          [    0.0000,     1.0000]],\n",
       " \n",
       "         [[    0.5000,     0.5000],\n",
       "          [    0.5000,     0.5000]]], device='cuda:0',\n",
       "        grad_fn=<SoftmaxBackward0>),\n",
       " tensor([0.2167, 0.1202, 0.0000], device='cuda:0', grad_fn=<CatBackward0>))"
      ]
     },
     "execution_count": 10,
     "metadata": {},
     "output_type": "execute_result"
    }
   ],
   "source": [
    "pi_menu, pay_menu"
   ]
  }
 ],
 "metadata": {
  "accelerator": "GPU",
  "colab": {
   "gpuType": "A100",
   "machine_shape": "hm",
   "provenance": []
  },
  "gpuClass": "standard",
  "kernelspec": {
   "display_name": "Python [conda env:.conda-data_markets]",
   "language": "python",
   "name": "conda-env-.conda-data_markets-py"
  },
  "language_info": {
   "codemirror_mode": {
    "name": "ipython",
    "version": 3
   },
   "file_extension": ".py",
   "mimetype": "text/x-python",
   "name": "python",
   "nbconvert_exporter": "python",
   "pygments_lexer": "ipython3",
   "version": "3.8.2"
  }
 },
 "nbformat": 4,
 "nbformat_minor": 5
}
