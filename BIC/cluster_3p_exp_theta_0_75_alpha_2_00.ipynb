{
  "cells": [
    {
      "cell_type": "code",
      "execution_count": 84,
      "metadata": {
        "id": "90a42f82-5981-4236-85c2-db2be1c59143"
      },
      "outputs": [],
      "source": [
        "import numpy as np\n",
        "\n",
        "import torch\n",
        "from torch import nn, optim\n",
        "import torch.nn.functional as F\n",
        "\n",
        "import matplotlib.pyplot as plt\n",
        "\n",
        "torch.set_printoptions(sci_mode = False, precision = 4)"
      ],
      "id": "90a42f82-5981-4236-85c2-db2be1c59143"
    },
    {
      "cell_type": "code",
      "execution_count": 108,
      "metadata": {
        "id": "18a2722d-fb74-4b97-a8b6-e8f3bbc1fe26"
      },
      "outputs": [],
      "source": [
        "# Hyperparameters\n",
        "class HParams:\n",
        "    def __init__(self):\n",
        "        \n",
        "        # Problem params\n",
        "        self.num_agents = 3\n",
        "        self.num_states = 2\n",
        "        self.num_signals = 2\n",
        "        \n",
        "        self.theta = np.array([0.75, 0.25])\n",
        "        self.alpha = 2\n",
        "        \n",
        "        # Minibatch size\n",
        "        self.batch_size = 50\n",
        "        \n",
        "        # Number of samples for computing interim vals\n",
        "        self.num_samples = 1400\n",
        "        \n",
        "        # Number of layer\n",
        "        self.R = 3\n",
        "        # Number of hidden units\n",
        "        self.K = 200\n",
        "        \n",
        "        # Data - Choose among exp, uniform, asym_uniform, irregular\n",
        "        self.distr_type = \"exp\"\n",
        "        \n",
        "        # Opt params\n",
        "        self.lr = 8e-4\n",
        "        \n",
        "        self.gd_lr = 5e-3\n",
        "        self.gd_iter = 5\n",
        "        \n",
        "        # Lagrangian params\n",
        "        \n",
        "        self.lag_ob_init = 5\n",
        "        self.lag_ir_init = 5\n",
        "        self.lag_ic_init = 5\n",
        "        \n",
        "        self.lag_up_iter = 200\n",
        "        \n",
        "        self.pho_init = 10\n",
        "        \n",
        "        self.pho_increment = 10\n",
        "        self.pho_up_iter = 200\n",
        "        \n",
        "        # Miscellaneous\n",
        "        self.seed = 0\n",
        "                  \n",
        "        self.max_iter = 60000 \n",
        "        self.print_iter = 1000\n",
        "                \n",
        "# Initialize config\n",
        "cfg = HParams()\n",
        "np.random.seed(cfg.seed)\n",
        "\n",
        "# Asserts\n",
        "# assert(cfg.num_agents == 2)\n",
        "device = \"cuda\"\n",
        "\n",
        "np.random.seed(cfg.seed)"
      ],
      "id": "18a2722d-fb74-4b97-a8b6-e8f3bbc1fe26"
    },
    {
      "cell_type": "code",
      "execution_count": 86,
      "metadata": {
        "id": "43976218-80e7-4f72-a617-230515a16c5a"
      },
      "outputs": [],
      "source": [
        "def sampler_exp(idx, batch_size):\n",
        "    return np.random.exponential(scale = 1.0, size = (batch_size))\n",
        "\n",
        "def sampler_uniform(idx, batch_size):\n",
        "    return np.random.uniform(low = 0.0, high = 1.0, size = (batch_size))\n",
        "\n",
        "def sampler_asym_uniform(idx, batch_size):\n",
        "    return np.random.uniform(low = 0.0, high = idx + 1.0, size = (batch_size))\n",
        "\n",
        "def sampler_irr(idx, batch_size):    \n",
        "    sample_1 = np.random.uniform(low = 0.0, high = 3.0, size = (batch_size))\n",
        "    sample_2 = np.random.uniform(low = 3.0, high = 8.0, size = (batch_size))\n",
        "    mask = np.random.binomial(1, 0.75, (batch_size))\n",
        "    return (sample_1 * mask + sample_2 * (1 - mask))/10 \n",
        "\n",
        "if cfg.distr_type == \"exp\":\n",
        "    samplers = sampler_exp\n",
        "\n",
        "if cfg.distr_type == \"uniform\":\n",
        "    samplers = sampler_uniform\n",
        "        \n",
        "if cfg.distr_type == \"asym_uniform\":\n",
        "    samplers = sampler_asym_uniform\n",
        "    \n",
        "if cfg.distr_type == \"irregular\":\n",
        "    samplers = sampler_irr"
      ],
      "id": "43976218-80e7-4f72-a617-230515a16c5a"
    },
    {
      "cell_type": "code",
      "execution_count": 87,
      "metadata": {
        "id": "f64e49ab-1323-4a63-93fb-2d1226ee7414"
      },
      "outputs": [],
      "source": [
        "# Utils\n",
        "def torch_var(x): return torch.Tensor(x).to(device)\n",
        "def numpy_var(x): return x.detach().cpu().numpy()\n",
        "\n",
        "# Broadcasting into [n, 1] for easy multiplication\n",
        "theta = torch_var(cfg.theta)[:, None]"
      ],
      "id": "f64e49ab-1323-4a63-93fb-2d1226ee7414"
    },
    {
      "cell_type": "code",
      "execution_count": 88,
      "metadata": {
        "id": "5522870a-54bb-40f9-801e-01d1a1a828b8"
      },
      "outputs": [],
      "source": [
        "# TODO: Initializations, Softmax temperatures\n",
        "\n",
        "class PiNet(nn.Module):      \n",
        "    def __init__(self, cfg):\n",
        "        super(PiNet, self).__init__()\n",
        "        self.cfg = cfg\n",
        "        \n",
        "        num_agents = self.cfg.num_agents\n",
        "        num_states = self.cfg.num_states\n",
        "        num_signals = self.cfg.num_signals\n",
        "        \n",
        "        num_layers = self.cfg.R\n",
        "        num_hidden_nodes = self.cfg.K\n",
        "\n",
        "        self.pi = nn.ModuleList()\n",
        "        \n",
        "        # Input layer\n",
        "        self.pi.append(nn.Linear(num_agents, num_hidden_nodes))\n",
        "        self.pi.append(nn.LeakyReLU())\n",
        "        \n",
        "        # Hidden layers\n",
        "        for i in range(num_layers - 1):\n",
        "            self.pi.append(nn.Linear(num_hidden_nodes, num_hidden_nodes))\n",
        "            self.pi.append(nn.LeakyReLU())\n",
        "         \n",
        "        # Output layer\n",
        "        self.pi.append(nn.Linear(num_hidden_nodes, num_agents * num_states * num_signals))\n",
        "        \n",
        "        for m in self.pi:\n",
        "            if isinstance(m, nn.Linear):\n",
        "                nn.init.xavier_uniform_(m.weight.data, gain = nn.init.calculate_gain('leaky_relu'))\n",
        "                nn.init.constant_(m.bias, 0)\n",
        "\n",
        "        \n",
        "\n",
        "        \n",
        "    def forward(self, v):\n",
        "        out = v\n",
        "        for module in self.pi: out = module(out)\n",
        "        out = out.view(-1, self.cfg.num_agents, self.cfg.num_states, self.cfg.num_signals)\n",
        "        return F.softmax(out, dim = -1)\n",
        "    \n",
        "    \n",
        "class PayNet(nn.Module):     \n",
        "    def __init__(self, cfg):\n",
        "        super(PayNet, self).__init__()\n",
        "        self.cfg = cfg        \n",
        "        num_layers = self.cfg.R\n",
        "        num_hidden_nodes = self.cfg.K\n",
        "\n",
        "        self.pay = nn.ModuleList()\n",
        "        \n",
        "        # Input layer\n",
        "        self.pay.append(nn.Linear(1, num_hidden_nodes))\n",
        "        self.pay.append(nn.LeakyReLU())\n",
        "        \n",
        "        # Hidden layers\n",
        "        for i in range(num_layers - 1):\n",
        "            self.pay.append(nn.Linear(num_hidden_nodes, num_hidden_nodes))\n",
        "            self.pay.append(nn.LeakyReLU())\n",
        "         \n",
        "        # Output layer\n",
        "        self.pay.append(nn.Linear(num_hidden_nodes, 1))\n",
        "        self.pay.append(nn.Sigmoid())\n",
        "        \n",
        "        for m in self.pay:\n",
        "            if isinstance(m, nn.Linear):\n",
        "                nn.init.xavier_uniform_(m.weight.data, gain = nn.init.calculate_gain('leaky_relu'))\n",
        "                nn.init.constant_(m.bias, 0)\n",
        "        \n",
        "    def forward(self, v):\n",
        "        out = v[:, None]\n",
        "        for module in self.pay: out = module(out)\n",
        "        return out.flatten()"
      ],
      "id": "5522870a-54bb-40f9-801e-01d1a1a828b8"
    },
    {
      "cell_type": "code",
      "execution_count": 89,
      "metadata": {
        "id": "893b54b6-3543-4735-8e71-96981bd25678"
      },
      "outputs": [],
      "source": [
        "def compute_x_interim(pi_interim):\n",
        "    \"\"\"\n",
        "    Computes interim probability of taking the correct action \n",
        "    assuming obedience is satified\n",
        "    \n",
        "    Args:\n",
        "        pi_interim: [Batch_size, Num_States, Num_Signals]\n",
        "    Returns:\n",
        "        x_interim: [Batch_size]\n",
        "    \"\"\"\n",
        "    \n",
        "    return torch.diagonal(pi_interim * theta, offset = 0, dim1 = -2, dim2 = -1).sum(-1)\n",
        "\n",
        "def compute_x_deviation(pi_interim):\n",
        "    \"\"\"\n",
        "    Computes interim probability of taking the correct action \n",
        "    when obedience is not imposed    \n",
        "    Args:\n",
        "        pi_interim: [Batch_size, Num_States, Num_Signals]\n",
        "    Returns:\n",
        "        x_deviation: [Batch_size]\n",
        "    \"\"\"\n",
        "    \n",
        "    return torch.max(pi_interim * theta, axis = -2)[0].sum(-1)\n",
        "\n",
        "\n",
        "def compute_obedience_violations(x_interim, pi_interim):\n",
        "    \"\"\"\n",
        "    Computes obedience violation\n",
        "    Args:\n",
        "        x_inteirm: [Batch]\n",
        "    Returns:\n",
        "        ob_viol: [Batch]\n",
        "    \"\"\"\n",
        "\n",
        "    x_deviation = compute_x_deviation(pi_interim) \n",
        "    ob_viol = F.relu(x_deviation - x_interim)\n",
        "    return ob_viol"
      ],
      "id": "893b54b6-3543-4735-8e71-96981bd25678"
    },
    {
      "cell_type": "code",
      "execution_count": 90,
      "metadata": {
        "id": "ca06b82e-4bc9-414b-9d72-40449fe5f3c2"
      },
      "outputs": [],
      "source": [
        "def compute_payments_from_fractions(v_i, payoff_interim, i):\n",
        "    \"\"\"\n",
        "    Computes interim payments from pay_frac\n",
        "    Args:\n",
        "        v_i: [Batch]\n",
        "        payoff_interim: [Batch]\n",
        "        pay_frac: [Batch]\n",
        "    Returns:\n",
        "        payment_interim: [Batch]\n",
        "    \"\"\"\n",
        "    \n",
        "    # Compute p_frac\n",
        "    pay_frac = pay_net[i](v_i)\n",
        "    \n",
        "    # Payoff if opting out\n",
        "    payoff_out = max(cfg.theta) - cfg.alpha\n",
        "    \n",
        "    \"\"\" \n",
        "    Pay <= Utility - Utility_out \n",
        "         = v_i * (payoff_interim - pay_out)     \n",
        "    \"\"\"\n",
        "    \n",
        "    payment_interim = v_i * (payoff_interim - payoff_out) * pay_frac\n",
        "    return payment_interim"
      ],
      "id": "ca06b82e-4bc9-414b-9d72-40449fe5f3c2"
    },
    {
      "cell_type": "code",
      "execution_count": 91,
      "metadata": {
        "id": "f5151d96-0b8d-4712-93af-1502d7f2d23d"
      },
      "outputs": [],
      "source": [
        "def compute_ir_violation(v_i, payoff_interim, pay_interim):\n",
        "    \"\"\"\n",
        "    Computes IR violation\n",
        "    Args:\n",
        "        v_i: [Batch]\n",
        "        payoff_interim: [Batch]\n",
        "        pay_interim: [Batch]\n",
        "    Returns:\n",
        "        ir_viol: [Batch]\n",
        "    \"\"\"\n",
        "    \n",
        "    # Payoff if opting out\n",
        "    payoff_out = max(cfg.theta) - cfg.alpha    \n",
        "    ir_viol = F.relu( v_i * (payoff_out - payoff_interim) + pay_interim )\n",
        "    return ir_viol"
      ],
      "id": "f5151d96-0b8d-4712-93af-1502d7f2d23d"
    },
    {
      "cell_type": "code",
      "execution_count": 92,
      "metadata": {
        "id": "8b93d976-9f4e-4e28-bde8-3edada270d5a"
      },
      "outputs": [],
      "source": [
        "def compute_ic_violation_grid(v_i, payoff_interim, pay_interim):\n",
        "    \"\"\"\n",
        "    Computes IC violation\n",
        "    Args:\n",
        "        v_i: [Batch]\n",
        "        payoff_interim: [Batch]\n",
        "        pay_interim: [Batch]\n",
        "    Returns:\n",
        "        ic_viol: [Batch]\n",
        "        v_mis: [Batch]\n",
        "\n",
        "    Compute v - payoff outer-product and subtract payment\n",
        "    Now we have a utility Mesh u_mesh whose i'th row j'th column has\n",
        "    the value v[i] * payoff[j] - pay[j]. This is exactly the utility of misreporting with b[i] = v[j]\n",
        "    The diagonal is the utility of truthful reporting. (as b[i] = v[i])\n",
        "    Compute ic_violation as max of misreporting - diagonal value.\n",
        "    \n",
        "    We can use this to warm-start GD: To be implemented\n",
        "    \"\"\"\n",
        "\n",
        "    u_mesh = v_i[:, None] * payoff_interim[None, :] - pay_interim[None, :]\n",
        "    \n",
        "    u_true = torch.diag(u_mesh)\n",
        "    u_mis, v_mis_idx =  u_mesh.max(axis = -1)\n",
        "    v_mis = v_i[v_mis_idx]\n",
        "    \n",
        "    ic_viol = F.relu(u_mis - u_true)\n",
        "    return ic_viol, v_mis.detach()"
      ],
      "id": "8b93d976-9f4e-4e28-bde8-3edada270d5a"
    },
    {
      "cell_type": "code",
      "execution_count": 93,
      "metadata": {
        "id": "71c0ef64-7a0d-4cae-b56d-a4bfd7f355d9"
      },
      "outputs": [],
      "source": [
        "def compute_misreports_gd(v_i, v_mis_i, v_mesh_i, i, gd_lr = 5e-3, gd_iter = 100):\n",
        "    \n",
        "    # Autograd variables\n",
        "    v_mis_i = v_mis_i.detach().clone()\n",
        "    v_mis_i.requires_grad_(True)\n",
        "    \n",
        "    # Optimizer\n",
        "    opt = torch.optim.Adam([v_mis_i], gd_lr)\n",
        "    \n",
        "    for it in range(gd_iter):\n",
        "        \n",
        "        opt.zero_grad()        \n",
        "        u_mis = torch.zeros(cfg.num_agents).to(device)\n",
        "        \n",
        "        # Compose misreport - v_mesh [NA, BS, NS, NA]\n",
        "        v_mesh_mis = torch.cat((v_mesh_i[:, :, :i], v_mis_i[:, None, None].repeat(1, cfg.num_samples, 1), v_mesh_i[:, :, i + 1:]), axis = -1)\n",
        "        \n",
        "        pi_mesh_mis = pi_net(v_mesh_mis.view(-1, cfg.num_agents)).view(cfg.batch_size, cfg.num_samples, cfg.num_agents, cfg.num_states, cfg.num_signals)\n",
        "        pi_interim_mis = pi_mesh_mis.mean(axis = -4)\n",
        "\n",
        "        #x_interim: [Batch_size, Num_agents], Probability of taking correct actions\n",
        "        x_interim_all_mis = compute_x_interim(pi_interim_mis) \n",
        "\n",
        "        # payoff_interim: x_i - \\alpha * \\sum_j != i x_j = (1 + \\alpha) x_i - (\\sum_j) x_j\n",
        "        payoff_interim_mis = (1 + cfg.alpha/(cfg.num_agents-1)) * x_interim_all_mis[:, i] - cfg.alpha/(cfg.num_agents-1) * x_interim_all_mis.sum(axis = -1)\n",
        "\n",
        "        # Compute payments\n",
        "        pay_interim_mis = compute_payments_from_fractions(v_mis_i, payoff_interim_mis, i)\n",
        "\n",
        "        u_mis = (v_i * payoff_interim_mis - pay_interim_mis).sum()\n",
        "            \n",
        "        u_mis_loss = (-u_mis.sum())\n",
        "        u_mis_loss.backward(inputs = v_mis_i)\n",
        "        opt.step()        \n",
        "        v_mis_i.data.clamp_(min = 0.0)\n",
        "        \n",
        "        \n",
        "    return v_mis_i.detach().clone()"
      ],
      "id": "71c0ef64-7a0d-4cae-b56d-a4bfd7f355d9"
    },
    {
      "cell_type": "code",
      "execution_count": 94,
      "metadata": {
        "id": "77ac7f7d-88b2-4852-b12d-a240d94a4684"
      },
      "outputs": [],
      "source": [
        "def compute_ic_viol(v_i, payoff_interim, pay_interim, v_mis_i, v_mesh_i, i):\n",
        "    \n",
        "    v_mesh_mis = torch.cat((v_mesh_i[:, :, :i], v_mis_i[:, None, None].repeat(1, cfg.num_samples, 1), v_mesh_i[:, :, i + 1:]), axis = -1)\n",
        "    \n",
        "    # Compute interim pi_mis\n",
        "    pi_mesh_mis = pi_net(v_mesh_mis.view(-1, cfg.num_agents)).view(cfg.batch_size, cfg.num_samples, cfg.num_agents, cfg.num_states, cfg.num_signals)\n",
        "    pi_interim_mis = pi_mesh_mis.mean(axis = -4)\n",
        "    \n",
        "    # Compute x_interim_mis, payoff_interim_mis, pay_interim_mis\n",
        "    x_interim_all_mis = compute_x_interim(pi_interim_mis)\n",
        "    payoff_interim_mis = (1 + cfg.alpha/(cfg.num_agents-1)) * x_interim_all_mis[:, i] - cfg.alpha/(cfg.num_agents-1) * x_interim_all_mis.sum(axis = -1)\n",
        "    pay_interim_mis = compute_payments_from_fractions(v_mis_i, payoff_interim_mis, i)\n",
        "    \n",
        "    # Compute u_mis\n",
        "    u_mis = (v_i * payoff_interim_mis - pay_interim_mis)\n",
        "    \n",
        "    # Compute u_true\n",
        "    u_true = v_i * payoff_interim - pay_interim\n",
        "    \n",
        "    # Compute ic_viol\n",
        "    ic_viol = F.relu(u_mis - u_true)\n",
        "    return ic_viol"
      ],
      "id": "77ac7f7d-88b2-4852-b12d-a240d94a4684"
    },
    {
      "cell_type": "code",
      "execution_count": 95,
      "metadata": {
        "id": "a8e2a3e3-6c3e-4759-9169-9b86b3288396"
      },
      "outputs": [],
      "source": [
        "pi_net = PiNet(cfg).to(device)\n",
        "pay_net = [PayNet(cfg).to(device) for _ in range(cfg.num_agents)]\n",
        "# Keep in mind that if the distributions are asymetric, we need two different neural networks"
      ],
      "id": "a8e2a3e3-6c3e-4759-9169-9b86b3288396"
    },
    {
      "cell_type": "code",
      "execution_count": 96,
      "metadata": {
        "id": "708c034f-8d53-4fa1-a6bb-c1b6f4afb75d"
      },
      "outputs": [],
      "source": [
        "lag_ob_init = cfg.lag_ob_init\n",
        "lag_ir_init = cfg.lag_ir_init\n",
        "lag_ic_init = cfg.lag_ic_init\n",
        "\n",
        "pho = cfg.pho_init\n",
        "pho_increment = cfg.pho_increment\n",
        "\n",
        "w_ob = torch.ones(cfg.num_agents).to(device) * lag_ob_init\n",
        "w_ir = torch.ones(cfg.num_agents).to(device) * lag_ir_init\n",
        "w_ic = torch.ones(cfg.num_agents).to(device) * lag_ic_init\n",
        "\n",
        "params = []\n",
        "params.extend(list(pi_net.parameters()))\n",
        "for i in range(cfg.num_agents):\n",
        "    params.extend(list(pay_net[i].parameters()))\n",
        "    \n",
        "opt = torch.optim.AdamW(params, lr=cfg.lr)\n",
        "\n",
        "it = 1"
      ],
      "id": "708c034f-8d53-4fa1-a6bb-c1b6f4afb75d"
    },
    {
      "cell_type": "code",
      "execution_count": 97,
      "metadata": {
        "id": "27bda925-6cf4-405f-9a11-6411000417f3"
      },
      "outputs": [],
      "source": [
        "\"\"\"\n",
        "V_sample is a tensor of shape [num_agents, batch_size and num_samples].\n",
        "V_sample[i, :, :] contains 'num_samples' samples of agent i's valuation to be averaged over \n",
        "for the computation of interim values of the remaning agents. These samples are the same \n",
        "for every valuation profile in the minibatch. (i.e V[i, j, :] = V[i, k, :] )\n",
        "\"\"\"\n",
        "V_sample = np.zeros((cfg.num_agents, cfg.batch_size, cfg.num_samples))\n",
        "\n",
        "for i in range(cfg.num_agents):\n",
        "    V_sample[i] = np.tile(samplers(i, cfg.num_samples)[None, :], (cfg.batch_size, 1))"
      ],
      "id": "27bda925-6cf4-405f-9a11-6411000417f3"
    },
    {
      "cell_type": "code",
      "execution_count": 109,
      "metadata": {
        "colab": {
          "base_uri": "https://localhost:8080/",
          "height": 461
        },
        "id": "100929ff-9541-4af8-ba94-750010e83e2b",
        "outputId": "9ecf8a58-722f-43d7-88e2-aa9099e28add"
      },
      "outputs": [
        {
          "output_type": "stream",
          "name": "stdout",
          "text": [
            "[Iter: 48000], [Time Elapsed: 81.92s]\n",
            "[Rev: 1.4948], [OB Viol: 0.0000], [IR Viol: 0.0000], [IC Viol: 0.0001]\n",
            "[Iter: 49000], [Time Elapsed: 181.34s]\n",
            "[Rev: 1.4225], [OB Viol: 0.0000], [IR Viol: 0.0000], [IC Viol: 0.0001]\n",
            "[Iter: 50000], [Time Elapsed: 280.64s]\n",
            "[Rev: 1.5864], [OB Viol: 0.0000], [IR Viol: 0.0000], [IC Viol: 0.0001]\n"
          ]
        },
        {
          "output_type": "error",
          "ename": "KeyboardInterrupt",
          "evalue": "ignored",
          "traceback": [
            "\u001b[0;31m---------------------------------------------------------------------------\u001b[0m",
            "\u001b[0;31mKeyboardInterrupt\u001b[0m                         Traceback (most recent call last)",
            "\u001b[0;32m<ipython-input-109-f2cdb2cc5636>\u001b[0m in \u001b[0;36m<module>\u001b[0;34m\u001b[0m\n\u001b[1;32m     74\u001b[0m         \u001b[0m_\u001b[0m\u001b[0;34m,\u001b[0m \u001b[0mv_mis_init\u001b[0m \u001b[0;34m=\u001b[0m \u001b[0mcompute_ic_violation_grid\u001b[0m\u001b[0;34m(\u001b[0m\u001b[0mv\u001b[0m\u001b[0;34m[\u001b[0m\u001b[0mi\u001b[0m\u001b[0;34m]\u001b[0m\u001b[0;34m,\u001b[0m \u001b[0mpayoff_interim\u001b[0m\u001b[0;34m,\u001b[0m \u001b[0mpay_interim\u001b[0m\u001b[0;34m)\u001b[0m\u001b[0;34m\u001b[0m\u001b[0;34m\u001b[0m\u001b[0m\n\u001b[1;32m     75\u001b[0m \u001b[0;34m\u001b[0m\u001b[0m\n\u001b[0;32m---> 76\u001b[0;31m         \u001b[0mv_mis\u001b[0m \u001b[0;34m=\u001b[0m \u001b[0mcompute_misreports_gd\u001b[0m\u001b[0;34m(\u001b[0m\u001b[0mv\u001b[0m\u001b[0;34m[\u001b[0m\u001b[0mi\u001b[0m\u001b[0;34m]\u001b[0m\u001b[0;34m,\u001b[0m \u001b[0mv_mis_init\u001b[0m\u001b[0;34m,\u001b[0m \u001b[0mv_mesh\u001b[0m\u001b[0;34m[\u001b[0m\u001b[0mi\u001b[0m\u001b[0;34m]\u001b[0m\u001b[0;34m,\u001b[0m \u001b[0mi\u001b[0m\u001b[0;34m,\u001b[0m \u001b[0mgd_lr\u001b[0m \u001b[0;34m=\u001b[0m \u001b[0mcfg\u001b[0m\u001b[0;34m.\u001b[0m\u001b[0mgd_lr\u001b[0m\u001b[0;34m,\u001b[0m \u001b[0mgd_iter\u001b[0m \u001b[0;34m=\u001b[0m \u001b[0mcfg\u001b[0m\u001b[0;34m.\u001b[0m\u001b[0mgd_iter\u001b[0m\u001b[0;34m)\u001b[0m\u001b[0;34m\u001b[0m\u001b[0;34m\u001b[0m\u001b[0m\n\u001b[0m\u001b[1;32m     77\u001b[0m         \u001b[0mic_viol\u001b[0m\u001b[0;34m[\u001b[0m\u001b[0mi\u001b[0m\u001b[0;34m]\u001b[0m \u001b[0;34m=\u001b[0m \u001b[0mcompute_ic_viol\u001b[0m\u001b[0;34m(\u001b[0m\u001b[0mv\u001b[0m\u001b[0;34m[\u001b[0m\u001b[0mi\u001b[0m\u001b[0;34m]\u001b[0m\u001b[0;34m,\u001b[0m \u001b[0mpayoff_interim\u001b[0m\u001b[0;34m,\u001b[0m \u001b[0mpay_interim\u001b[0m\u001b[0;34m,\u001b[0m \u001b[0mv_mis\u001b[0m\u001b[0;34m,\u001b[0m \u001b[0mv_mesh\u001b[0m\u001b[0;34m[\u001b[0m\u001b[0mi\u001b[0m\u001b[0;34m]\u001b[0m\u001b[0;34m,\u001b[0m \u001b[0mi\u001b[0m\u001b[0;34m)\u001b[0m\u001b[0;34m.\u001b[0m\u001b[0mmean\u001b[0m\u001b[0;34m(\u001b[0m\u001b[0;34m)\u001b[0m\u001b[0;34m\u001b[0m\u001b[0;34m\u001b[0m\u001b[0m\n\u001b[1;32m     78\u001b[0m \u001b[0;34m\u001b[0m\u001b[0m\n",
            "\u001b[0;32m<ipython-input-93-cf4fe5aa46dd>\u001b[0m in \u001b[0;36mcompute_misreports_gd\u001b[0;34m(v_i, v_mis_i, v_mesh_i, i, gd_lr, gd_iter)\u001b[0m\n\u001b[1;32m     11\u001b[0m \u001b[0;34m\u001b[0m\u001b[0m\n\u001b[1;32m     12\u001b[0m         \u001b[0mopt\u001b[0m\u001b[0;34m.\u001b[0m\u001b[0mzero_grad\u001b[0m\u001b[0;34m(\u001b[0m\u001b[0;34m)\u001b[0m\u001b[0;34m\u001b[0m\u001b[0;34m\u001b[0m\u001b[0m\n\u001b[0;32m---> 13\u001b[0;31m         \u001b[0mu_mis\u001b[0m \u001b[0;34m=\u001b[0m \u001b[0mtorch\u001b[0m\u001b[0;34m.\u001b[0m\u001b[0mzeros\u001b[0m\u001b[0;34m(\u001b[0m\u001b[0mcfg\u001b[0m\u001b[0;34m.\u001b[0m\u001b[0mnum_agents\u001b[0m\u001b[0;34m)\u001b[0m\u001b[0;34m.\u001b[0m\u001b[0mto\u001b[0m\u001b[0;34m(\u001b[0m\u001b[0mdevice\u001b[0m\u001b[0;34m)\u001b[0m\u001b[0;34m\u001b[0m\u001b[0;34m\u001b[0m\u001b[0m\n\u001b[0m\u001b[1;32m     14\u001b[0m \u001b[0;34m\u001b[0m\u001b[0m\n\u001b[1;32m     15\u001b[0m         \u001b[0;31m# Compose misreport - v_mesh [NA, BS, NS, NA]\u001b[0m\u001b[0;34m\u001b[0m\u001b[0;34m\u001b[0m\u001b[0;34m\u001b[0m\u001b[0m\n",
            "\u001b[0;31mKeyboardInterrupt\u001b[0m: "
          ]
        }
      ],
      "source": [
        "import time\n",
        "tic = time.time()\n",
        "                                  \n",
        "while it <= cfg.max_iter:\n",
        "    \n",
        "    \n",
        "    opt.zero_grad()\n",
        "    \n",
        "    \"\"\" \n",
        "    Construction of V_mesh:\n",
        "    V_mesh is of shape [num_agents, batch_size, num_samples, num_agents]\n",
        "    What's V_mesh[i, j, k, l]?\n",
        "    V[i, j] - has num_samples elements with the same valuation for agent - i\n",
        "    but with num_samples values from the V_sample array for other agents\n",
        "    \n",
        "    We use this for computation of payment, ic-viol, ob-viol for agent - i only\n",
        "    \"\"\"\n",
        "    \n",
        "    \n",
        "    V = np.zeros((cfg.num_agents, cfg.batch_size))\n",
        "    V_mesh = np.zeros((cfg.num_agents, cfg.batch_size, cfg.num_samples, cfg.num_agents))\n",
        "\n",
        "\n",
        "    for i in range(cfg.num_agents):\n",
        "        V[i] = samplers(i, cfg.batch_size) \n",
        "        for j in range(cfg.num_agents):\n",
        "            if i == j:    \n",
        "                V_mesh[i, :, :, j] = np.tile(V[i][:, None], (1, cfg.num_samples))\n",
        "            else:\n",
        "                V_mesh[i, :, :, j] = V_sample[j]\n",
        "           \n",
        "    v = torch_var(V)\n",
        "    v_mesh = torch_var(V_mesh)\n",
        "    \n",
        "    \n",
        "    pi_mesh = pi_net(v_mesh.view(-1, cfg.num_agents)).view(cfg.num_agents, cfg.batch_size, cfg.num_samples, cfg.num_agents, cfg.num_states, cfg.num_signals)   \n",
        "    pi_mesh = pi_mesh.mean(axis = -4)\n",
        "        \n",
        "    revenue = torch.zeros(cfg.num_agents).to(device)\n",
        "    ob_viol = torch.zeros(cfg.num_agents).to(device)\n",
        "    ir_viol = torch.zeros(cfg.num_agents).to(device)\n",
        "    ic_viol = torch.zeros(cfg.num_agents).to(device)\n",
        "    \n",
        "    \n",
        "    \n",
        "    for i in range(cfg.num_agents):\n",
        "                \n",
        "        #pi_interim: [Batch_size, Num_agents, Num_states, Num_signals], experiments assigned\n",
        "        pi_interim = pi_mesh[i] \n",
        "        \n",
        "        #x_interim: [Batch_size, Num_agents], Probability of taking correct actions\n",
        "        x_interim_all = compute_x_interim(pi_interim) \n",
        "        \n",
        "        # payoff_interim: x_i - \\alpha * \\sum_j != i x_j = (1 + \\alpha) x_i - (\\sum_j) x_j\n",
        "        payoff_interim = (1 + cfg.alpha/(cfg.num_agents-1)) * x_interim_all[:, i] - cfg.alpha/(cfg.num_agents-1) * x_interim_all.sum(axis = -1)\n",
        "        \n",
        "        # Compute payments\n",
        "        pay_interim = compute_payments_from_fractions(v[i], payoff_interim, i)\n",
        "        \n",
        "        # Compute Revenue        \n",
        "        revenue[i] = pay_interim.mean()\n",
        "        \n",
        "        # Compute obedience violations\n",
        "        ob_viol[i] = compute_obedience_violations(x_interim_all[:, i], pi_interim[:, i]).mean()\n",
        "        \n",
        "        # Compute ir violation\n",
        "        ir_viol[i] = compute_ir_violation(v[i], payoff_interim, pay_interim).mean()\n",
        "        \n",
        "        # Compute ic violation: \n",
        "        # Uncomment this for random starts\n",
        "        # v_mis_init = torch_var(samplers(i,cfg.batch_size))\n",
        "        \n",
        "        # Warm-start with the best misreport computed using other minibatch vals\n",
        "        _, v_mis_init = compute_ic_violation_grid(v[i], payoff_interim, pay_interim)\n",
        "                \n",
        "        v_mis = compute_misreports_gd(v[i], v_mis_init, v_mesh[i], i, gd_lr = cfg.gd_lr, gd_iter = cfg.gd_iter)        \n",
        "        ic_viol[i] = compute_ic_viol(v[i], payoff_interim, pay_interim, v_mis, v_mesh[i], i).mean()\n",
        "    \n",
        "\n",
        "    rev_loss = -revenue.sum()\n",
        "    lagrangian = torch.dot(w_ob, ob_viol) + torch.dot(w_ir, ir_viol) + torch.dot(w_ic, ic_viol)\n",
        "    penalty = pho * ((ob_viol**2).sum() + (ir_viol**2).sum() + (ic_viol**2).sum())\n",
        "    \n",
        "    loss = rev_loss + penalty + lagrangian\n",
        "    \n",
        "    loss.backward()   \n",
        "    opt.step()\n",
        "    \n",
        "    if it % cfg.print_iter == 0:\n",
        "        print(\"[Iter: %d], [Time Elapsed: %.2fs]\"%(it, time.time() - tic))\n",
        "        print(\"[Rev: %.4f], [OB Viol: %.4f], [IR Viol: %.4f], [IC Viol: %.4f]\"%(revenue.sum(), ob_viol.mean().item(), ir_viol.mean().item(), ic_viol.mean().item()))\n",
        "        \n",
        "    if it % cfg.lag_up_iter == 0:\n",
        "        w_ob.data += pho * ob_viol.data\n",
        "        w_ic.data += pho * ic_viol.data\n",
        "        \n",
        "    if it % cfg.pho_up_iter == 0:\n",
        "        pho += pho_increment\n",
        "        \n",
        "    it += 1"
      ],
      "id": "100929ff-9541-4af8-ba94-750010e83e2b"
    },
    {
      "cell_type": "code",
      "execution_count": 110,
      "metadata": {
        "colab": {
          "base_uri": "https://localhost:8080/",
          "height": 322
        },
        "id": "2c22f1e6-7d2a-49b5-94fa-71802d903559",
        "outputId": "7e9c5d6a-7ed0-461e-b3e0-ac6577ea91b6"
      },
      "outputs": [
        {
          "output_type": "display_data",
          "data": {
            "text/plain": [
              "<Figure size 360x288 with 2 Axes>"
            ],
            "image/png": "[encoded data removed]"
          },
          "metadata": {
            "needs_background": "light"
          }
        }
      ],
      "source": [
        "import scipy.stats\n",
        "D = 81\n",
        "v1 = torch_var(np.linspace(0, 4, D))\n",
        "# v2 = torch_var(np.linspace(0, 0.8, D))\n",
        "s2 = torch_var(np.linspace(0, 8, D))\n",
        "v2 = s2/2\n",
        "v3 = s2.clone()/2\n",
        "v_mesh = torch.stack(torch.meshgrid(v1, v2, indexing = \"ij\"), axis = -1)\n",
        "v_mesh = torch.cat((v_mesh, v_mesh[:,:,1].reshape(D,D,1)),dim=-1)\n",
        "\n",
        "pi_mesh = torch.diagonal(pi_net(v_mesh.view(-1, 3)).view(D, D, cfg.num_agents, cfg.num_states, cfg.num_signals) * theta, 0, -2, -1).sum(-1)\n",
        "AM = numpy_var(pi_mesh)\n",
        "\n",
        "\n",
        "fig, ax = plt.subplots(ncols = 1, nrows = 1, figsize=(5,4))\n",
        "\n",
        "img_1 = ax.imshow(AM[:, :, 0].transpose(1,0), extent=[0,4,0,8], vmin = 0.0,aspect = 0.5, vmax=1.0, cmap = 'YlOrRd', origin = \"lower\")\n",
        "plt.colorbar(img_1, ax = ax, fraction=0.046, pad=0.04)\n",
        "\n",
        "# img_2 = ax[1].imshow(AM[:, :, 1].transpose(1,0), extent=[0,4,0,8], vmin = 0.0,aspect = 0.5, vmax=1.0, cmap = 'YlOrRd', origin = \"lower\")\n",
        "# plt.colorbar(img_2, ax = ax[1], fraction=0.046, pad=0.04)\n",
        "\n",
        "ax.plot([0, 0.678347], [2.69263, 2.69263], color='black')\n",
        "ax.plot([0.678347, 4],[1.678347, 5],color='black')\n",
        "\n",
        "ax.set_xlabel(\"$v_1$\")\n",
        "ax.set_ylabel(\"$v_{-1}$\")\n",
        "# ax[1].set_xlabel(\"$v_1$\")\n",
        "# ax[1].set_ylabel(\"$v_{-1}$\")\n",
        "\n",
        "fig.text(0.5, 1, r\"Irr, $\\alpha=%.2f, \\theta=%.2f$\"%(cfg.alpha, max(cfg.theta)), ha='center', size = 16)\n",
        "fig.tight_layout()"
      ],
      "id": "2c22f1e6-7d2a-49b5-94fa-71802d903559"
    },
    {
      "cell_type": "code",
      "execution_count": null,
      "metadata": {
        "id": "2ccc0787-619e-48e7-9ed6-846a834043b6"
      },
      "outputs": [],
      "source": [
        "V = np.linspace(0, 8, 801)\n",
        "V_mesh = np.stack(np.meshgrid(V, V, indexing = \"ij\"), axis = -1)\n",
        "\n",
        "def compute_VV(v):\n",
        "    vv = np.zeros(v.shape)\n",
        "    for i in range(v.shape[0]):\n",
        "        if(v[i] <= (7.0 - np.sqrt(5.0))/2.0):\n",
        "            vv[i] = 2.0 * v[i] - 4.0\n",
        "        elif(v[i] <= (11.0 - np.sqrt(5.0))/2.0):\n",
        "            vv[i] = 3.0 - np.sqrt(5.0)\n",
        "        else:\n",
        "            vv[i] = 2.0 * v[i] - 8.0\n",
        "    return(vv)\n",
        "\n",
        "VV = compute_VV(V)\n",
        "VV_mesh = np.stack(np.meshgrid(VV, VV, indexing = \"ij\"), axis = -1)"
      ],
      "id": "2ccc0787-619e-48e7-9ed6-846a834043b6"
    },
    {
      "cell_type": "code",
      "execution_count": null,
      "metadata": {
        "id": "4b927338-96b3-4e94-95c0-083210d30a82"
      },
      "outputs": [],
      "source": [
        "def compute_alloc(V_mesh, VV_mesh):\n",
        "    x = np.zeros(VV_mesh.shape)\n",
        "    rev = 0.0\n",
        "    for i in range(VV_mesh.shape[0]):\n",
        "        for j in range(VV_mesh.shape[1]):\n",
        "            x[i, j, 0] =  VV_mesh[i, j, 0] > cfg.alpha * VV_mesh[i, j, 1]\n",
        "            x[i, j, 1] =  VV_mesh[i, j, 1] > cfg.alpha * VV_mesh[i, j, 0]\n",
        "            if V_mesh[i, j, 0] <= 2 and V_mesh[i, j, 1] <= 2:\n",
        "               x[i, j, 0] = 1.0\n",
        "               x[i, j, 1] = 1.0\n",
        "            \n",
        "        rev += x[i, j, 0] * (VV_mesh[i, j, 0] - cfg.alpha * VV_mesh[i, j, 1])\n",
        "    return x, rev/(VV_mesh.shape[0] * VV_mesh.shape[1])"
      ],
      "id": "4b927338-96b3-4e94-95c0-083210d30a82"
    },
    {
      "cell_type": "code",
      "execution_count": null,
      "metadata": {
        "id": "592197c8-f26a-41c8-9b1b-e2a012cd2eb0"
      },
      "outputs": [],
      "source": [
        "X, rev = compute_alloc(V_mesh, VV_mesh)\n",
        "print(np.shape(X))"
      ],
      "id": "592197c8-f26a-41c8-9b1b-e2a012cd2eb0"
    },
    {
      "cell_type": "code",
      "execution_count": 106,
      "metadata": {
        "colab": {
          "base_uri": "https://localhost:8080/",
          "height": 17
        },
        "id": "iCJE-4A6x-TO",
        "outputId": "89b783b8-c8d0-4fd3-f9ed-67362d64ec6d"
      },
      "outputs": [
        {
          "output_type": "display_data",
          "data": {
            "text/plain": [
              "<IPython.core.display.Javascript object>"
            ],
            "application/javascript": [
              "\n",
              "    async function download(id, filename, size) {\n",
              "      if (!google.colab.kernel.accessAllowed) {\n",
              "        return;\n",
              "      }\n",
              "      const div = document.createElement('div');\n",
              "      const label = document.createElement('label');\n",
              "      label.textContent = `Downloading \"${filename}\": `;\n",
              "      div.appendChild(label);\n",
              "      const progress = document.createElement('progress');\n",
              "      progress.max = size;\n",
              "      div.appendChild(progress);\n",
              "      document.body.appendChild(div);\n",
              "\n",
              "      const buffers = [];\n",
              "      let downloaded = 0;\n",
              "\n",
              "      const channel = await google.colab.kernel.comms.open(id);\n",
              "      // Send a message to notify the kernel that we're ready.\n",
              "      channel.send({})\n",
              "\n",
              "      for await (const message of channel.messages) {\n",
              "        // Send a message to notify the kernel that we're ready.\n",
              "        channel.send({})\n",
              "        if (message.buffers) {\n",
              "          for (const buffer of message.buffers) {\n",
              "            buffers.push(buffer);\n",
              "            downloaded += buffer.byteLength;\n",
              "            progress.value = downloaded;\n",
              "          }\n",
              "        }\n",
              "      }\n",
              "      const blob = new Blob(buffers, {type: 'application/binary'});\n",
              "      const a = document.createElement('a');\n",
              "      a.href = window.URL.createObjectURL(blob);\n",
              "      a.download = filename;\n",
              "      div.appendChild(a);\n",
              "      a.click();\n",
              "      div.remove();\n",
              "    }\n",
              "  "
            ]
          },
          "metadata": {}
        },
        {
          "output_type": "display_data",
          "data": {
            "text/plain": [
              "<IPython.core.display.Javascript object>"
            ],
            "application/javascript": [
              "download(\"download_fe20fcb6-2fcf-4c93-bb63-1db0cbb683c6\", \"notgoodnnn1.pth\", 337143)"
            ]
          },
          "metadata": {}
        },
        {
          "output_type": "display_data",
          "data": {
            "text/plain": [
              "<IPython.core.display.Javascript object>"
            ],
            "application/javascript": [
              "\n",
              "    async function download(id, filename, size) {\n",
              "      if (!google.colab.kernel.accessAllowed) {\n",
              "        return;\n",
              "      }\n",
              "      const div = document.createElement('div');\n",
              "      const label = document.createElement('label');\n",
              "      label.textContent = `Downloading \"${filename}\": `;\n",
              "      div.appendChild(label);\n",
              "      const progress = document.createElement('progress');\n",
              "      progress.max = size;\n",
              "      div.appendChild(progress);\n",
              "      document.body.appendChild(div);\n",
              "\n",
              "      const buffers = [];\n",
              "      let downloaded = 0;\n",
              "\n",
              "      const channel = await google.colab.kernel.comms.open(id);\n",
              "      // Send a message to notify the kernel that we're ready.\n",
              "      channel.send({})\n",
              "\n",
              "      for await (const message of channel.messages) {\n",
              "        // Send a message to notify the kernel that we're ready.\n",
              "        channel.send({})\n",
              "        if (message.buffers) {\n",
              "          for (const buffer of message.buffers) {\n",
              "            buffers.push(buffer);\n",
              "            downloaded += buffer.byteLength;\n",
              "            progress.value = downloaded;\n",
              "          }\n",
              "        }\n",
              "      }\n",
              "      const blob = new Blob(buffers, {type: 'application/binary'});\n",
              "      const a = document.createElement('a');\n",
              "      a.href = window.URL.createObjectURL(blob);\n",
              "      a.download = filename;\n",
              "      div.appendChild(a);\n",
              "      a.click();\n",
              "      div.remove();\n",
              "    }\n",
              "  "
            ]
          },
          "metadata": {}
        },
        {
          "output_type": "display_data",
          "data": {
            "text/plain": [
              "<IPython.core.display.Javascript object>"
            ],
            "application/javascript": [
              "download(\"download_37dc5b09-f706-4d5a-ae42-664907aa9126\", \"notgoodnnn2.pth\", 326775)"
            ]
          },
          "metadata": {}
        },
        {
          "output_type": "display_data",
          "data": {
            "text/plain": [
              "<IPython.core.display.Javascript object>"
            ],
            "application/javascript": [
              "\n",
              "    async function download(id, filename, size) {\n",
              "      if (!google.colab.kernel.accessAllowed) {\n",
              "        return;\n",
              "      }\n",
              "      const div = document.createElement('div');\n",
              "      const label = document.createElement('label');\n",
              "      label.textContent = `Downloading \"${filename}\": `;\n",
              "      div.appendChild(label);\n",
              "      const progress = document.createElement('progress');\n",
              "      progress.max = size;\n",
              "      div.appendChild(progress);\n",
              "      document.body.appendChild(div);\n",
              "\n",
              "      const buffers = [];\n",
              "      let downloaded = 0;\n",
              "\n",
              "      const channel = await google.colab.kernel.comms.open(id);\n",
              "      // Send a message to notify the kernel that we're ready.\n",
              "      channel.send({})\n",
              "\n",
              "      for await (const message of channel.messages) {\n",
              "        // Send a message to notify the kernel that we're ready.\n",
              "        channel.send({})\n",
              "        if (message.buffers) {\n",
              "          for (const buffer of message.buffers) {\n",
              "            buffers.push(buffer);\n",
              "            downloaded += buffer.byteLength;\n",
              "            progress.value = downloaded;\n",
              "          }\n",
              "        }\n",
              "      }\n",
              "      const blob = new Blob(buffers, {type: 'application/binary'});\n",
              "      const a = document.createElement('a');\n",
              "      a.href = window.URL.createObjectURL(blob);\n",
              "      a.download = filename;\n",
              "      div.appendChild(a);\n",
              "      a.click();\n",
              "      div.remove();\n",
              "    }\n",
              "  "
            ]
          },
          "metadata": {}
        },
        {
          "output_type": "display_data",
          "data": {
            "text/plain": [
              "<IPython.core.display.Javascript object>"
            ],
            "application/javascript": [
              "download(\"download_ed59ffbe-76f0-4fa2-803b-478b621e7d74\", \"notgoodnnn3.pth\", 326775)"
            ]
          },
          "metadata": {}
        }
      ],
      "source": [
        "from google.colab import files\n",
        "torch.save(pi_net.state_dict(), 'notgoodnnn1.pth')\n",
        "torch.save(pay_net[0].state_dict(), 'notgoodnnn2.pth')\n",
        "torch.save(pay_net[1].state_dict(), 'notgoodnnn3.pth')\n",
        "# # # # download checkpoint file\n",
        "files.download('notgoodnnn1.pth')\n",
        "files.download('notgoodnnn2.pth')\n",
        "files.download('notgoodnnn3.pth')\n",
        "# files.upload()\n",
        "# state_dict = torch.load('n3p_exp_theta_0.75_alpha_2.00.pth')\n",
        "# state_dict_2 = torch.load('n3p_exp_theta_0.75_alpha_2.00p1.pth')\n",
        "# state_dict_3 = torch.load('n3p_exp_theta_0.75_alpha_2.00p2.pth')\n",
        "# pi_net.load_state_dict(state_dict)\n",
        "# pay_net[0].load_state_dict(state_dict_2)\n",
        "# pay_net[1].load_state_dict(state_dict_3)"
      ],
      "id": "iCJE-4A6x-TO"
    },
    {
      "cell_type": "code",
      "execution_count": null,
      "metadata": {
        "id": "a8104df4-bb98-40a7-83d2-6539aa0e8625"
      },
      "outputs": [],
      "source": [
        "plt.imshow(X[:, :,0].T, origin = \"lower\")"
      ],
      "id": "a8104df4-bb98-40a7-83d2-6539aa0e8625"
    },
    {
      "cell_type": "code",
      "execution_count": 418,
      "metadata": {
        "id": "0b25b1a1-91fa-42cc-a5ad-3e0074345a90"
      },
      "outputs": [],
      "source": [
        "pho=200"
      ],
      "id": "0b25b1a1-91fa-42cc-a5ad-3e0074345a90"
    },
    {
      "cell_type": "code",
      "execution_count": 417,
      "metadata": {
        "id": "7cc45f8d-2565-4c4a-8ba0-1f000df6251c",
        "colab": {
          "base_uri": "https://localhost:8080/"
        },
        "outputId": "75fc2910-b712-4d39-f208-60ea28f6b256"
      },
      "outputs": [
        {
          "output_type": "execute_result",
          "data": {
            "text/plain": [
              "755"
            ]
          },
          "metadata": {},
          "execution_count": 417
        }
      ],
      "source": [
        "pho"
      ],
      "id": "7cc45f8d-2565-4c4a-8ba0-1f000df6251c"
    },
    {
      "cell_type": "code",
      "execution_count": null,
      "metadata": {
        "id": "232a0050-b215-483c-be6c-dbf0fa73d682"
      },
      "outputs": [],
      "source": [
        "U1 = (VV_mesh[:, :, 0] - 0.5 * VV_mesh[:, :, 1])\n",
        "U2 = (VV_mesh[:201, :201, 0] - 0.5 * VV_mesh[:201, :201, 1])"
      ],
      "id": "232a0050-b215-483c-be6c-dbf0fa73d682"
    },
    {
      "cell_type": "code",
      "execution_count": null,
      "metadata": {
        "id": "90a177c2-f1cb-4907-bd32-2930195d2752"
      },
      "outputs": [],
      "source": [
        "X = (U1 > 0)"
      ],
      "id": "90a177c2-f1cb-4907-bd32-2930195d2752"
    },
    {
      "cell_type": "code",
      "execution_count": null,
      "metadata": {
        "id": "138f167e-dfc2-4380-a8ae-8d8ff598d4c8"
      },
      "outputs": [],
      "source": [
        "X[:201, :201] = 1.0"
      ],
      "id": "138f167e-dfc2-4380-a8ae-8d8ff598d4c8"
    },
    {
      "cell_type": "code",
      "execution_count": null,
      "metadata": {
        "id": "821da283-7851-45ba-9906-b02899e8985e"
      },
      "outputs": [],
      "source": [
        "VV_mesh.shape"
      ],
      "id": "821da283-7851-45ba-9906-b02899e8985e"
    },
    {
      "cell_type": "code",
      "execution_count": null,
      "metadata": {
        "id": "17037346-43cf-41fb-b33e-92a78b0a3aac"
      },
      "outputs": [],
      "source": [
        "(X * (VV_mesh[:, :, 0] - 0.5 * VV_mesh[:, :, 1])).mean()"
      ],
      "id": "17037346-43cf-41fb-b33e-92a78b0a3aac"
    },
    {
      "cell_type": "code",
      "execution_count": 111,
      "metadata": {
        "id": "84aa220f-a73f-40ed-9066-59a44231abe0",
        "colab": {
          "base_uri": "https://localhost:8080/"
        },
        "outputId": "f24c90a6-d979-4550-d48b-979e8ffda569"
      },
      "outputs": [
        {
          "output_type": "stream",
          "name": "stdout",
          "text": [
            "[Rev: 1.4408], [OB Viol: 0.0000], [IR Viol: 0.0000], [IC Viol: 0.0001]\n",
            "[Rev: 1.4456], [OB Viol: 0.0000], [IR Viol: 0.0000], [IC Viol: 0.0001]\n",
            "[Rev: 1.4434], [OB Viol: 0.0000], [IR Viol: 0.0000], [IC Viol: 0.0001]\n",
            "[Rev: 1.4423], [OB Viol: 0.0000], [IR Viol: 0.0000], [IC Viol: 0.0001]\n",
            "[Rev: 1.4388], [OB Viol: 0.0000], [IR Viol: 0.0000], [IC Viol: 0.0001]\n",
            "[Rev: 1.4391], [OB Viol: 0.0000], [IR Viol: 0.0000], [IC Viol: 0.0001]\n",
            "[Rev: 1.4400], [OB Viol: 0.0000], [IR Viol: 0.0000], [IC Viol: 0.0001]\n",
            "[Rev: 1.4396], [OB Viol: 0.0000], [IR Viol: 0.0000], [IC Viol: 0.0001]\n",
            "[Rev: 1.4389], [OB Viol: 0.0000], [IR Viol: 0.0000], [IC Viol: 0.0001]\n",
            "[Rev: 1.4384], [OB Viol: 0.0000], [IR Viol: 0.0000], [IC Viol: 0.0001]\n"
          ]
        }
      ],
      "source": [
        "import time\n",
        "import gc\n",
        "tic = time.time()\n",
        "                              \n",
        "\n",
        "\"\"\" \n",
        "Construction of V_mesh:\n",
        "V_mesh is of shape [num_agents, batch_size, num_samples, num_agents]\n",
        "What's V_mesh[i, j, k, l]?\n",
        "V[i, j] - has num_samples elements with the same valuation for agent - i\n",
        "but with num_samples values from the V_sample array for other agents\n",
        "\n",
        "We use this for computation of payment, ic-viol, ob-viol for agent - i only\n",
        "\"\"\"\n",
        "ctrrev = 0\n",
        "ctrob = 0\n",
        "ctrir = 0\n",
        "ctric = 0\n",
        "testitr = 10000\n",
        "for iters in range(testitr):\n",
        "    opt.zero_grad()\n",
        "  \n",
        "    \"\"\" \n",
        "    Construction of V_mesh:\n",
        "    V_mesh is of shape [num_agents, batch_size, num_samples, num_agents]\n",
        "    What's V_mesh[i, j, k, l]?\n",
        "    V[i, j] - has num_samples elements with the same valuation for agent - i\n",
        "    but with num_samples values from the V_sample array for other agents\n",
        "    \n",
        "    We use this for computation of payment, ic-viol, ob-viol for agent - i only\n",
        "    \"\"\"\n",
        "    \n",
        "    \n",
        "    V = np.zeros((cfg.num_agents, cfg.batch_size))\n",
        "    V_mesh = np.zeros((cfg.num_agents, cfg.batch_size, cfg.num_samples, cfg.num_agents))\n",
        "\n",
        "\n",
        "    for i in range(cfg.num_agents):\n",
        "        V[i] = samplers(i, cfg.batch_size)    \n",
        "        for j in range(cfg.num_agents):\n",
        "            if i == j:    \n",
        "                V_mesh[i, :, :, j] = np.tile(V[i][:, None], (1, cfg.num_samples))\n",
        "            else:\n",
        "                V_mesh[i, :, :, j] = V_sample[j]\n",
        "          \n",
        "    v = torch_var(V)\n",
        "    v_mesh = torch_var(V_mesh)\n",
        "    \n",
        "    \n",
        "    pi_mesh = pi_net(v_mesh.view(-1, cfg.num_agents)).view(cfg.num_agents, cfg.batch_size, cfg.num_samples, cfg.num_agents, cfg.num_states, cfg.num_signals)   \n",
        "    pi_mesh = pi_mesh.mean(axis = -4)\n",
        "        \n",
        "    revenue = torch.zeros(cfg.num_agents).to(device)\n",
        "    ob_viol = torch.zeros(cfg.num_agents).to(device)\n",
        "    ir_viol = torch.zeros(cfg.num_agents).to(device)\n",
        "    ic_viol = torch.zeros(cfg.num_agents).to(device)\n",
        "    \n",
        "    \n",
        "    \n",
        "    for i in range(cfg.num_agents):\n",
        "                \n",
        "        #pi_interim: [Batch_size, Num_agents, Num_states, Num_signals], experiments assigned\n",
        "        pi_interim = pi_mesh[i] \n",
        "        \n",
        "        #x_interim: [Batch_size, Num_agents], Probability of taking correct actions\n",
        "        x_interim_all = compute_x_interim(pi_interim) \n",
        "        \n",
        "        # payoff_interim: x_i - \\alpha * \\sum_j != i x_j = (1 + \\alpha) x_i - (\\sum_j) x_j\n",
        "        payoff_interim = (1 + cfg.alpha/(cfg.num_agents-1)) * x_interim_all[:, i] - cfg.alpha/(cfg.num_agents-1) * x_interim_all.sum(axis = -1)\n",
        "        \n",
        "        # Compute payments\n",
        "        pay_interim = compute_payments_from_fractions(v[i], payoff_interim, i)\n",
        "        \n",
        "        # Compute Revenue        \n",
        "        revenue[i] = pay_interim.mean()\n",
        "        \n",
        "        # Compute obedience violations\n",
        "        ob_viol[i] = compute_obedience_violations(x_interim_all[:, i], pi_interim[:, i]).mean()\n",
        "        \n",
        "        # Compute ir violation\n",
        "        ir_viol[i] = compute_ir_violation(v[i], payoff_interim, pay_interim).mean()\n",
        "        \n",
        "        # Compute ic violation: \n",
        "        # Uncomment this for random starts\n",
        "        # v_mis_init = torch_var(samplers[i](cfg.batch_size))\n",
        "        \n",
        "        # Warm-start with the best misreport computed using other minibatch vals\n",
        "        _, v_mis_init = compute_ic_violation_grid(v[i], payoff_interim, pay_interim)\n",
        "                \n",
        "        v_mis = compute_misreports_gd(v[i], v_mis_init, v_mesh[i], i, gd_lr = cfg.gd_lr, gd_iter = cfg.gd_iter)        \n",
        "        ic_viol[i] = compute_ic_viol(v[i], payoff_interim, pay_interim, v_mis, v_mesh[i], i).mean()\n",
        "    \n",
        "\n",
        "    rev_loss = -revenue.sum()\n",
        "    lagrangian = torch.dot(w_ob, ob_viol) + torch.dot(w_ir, ir_viol) + torch.dot(w_ic, ic_viol)\n",
        "    penalty = pho * ((ob_viol**2).sum() + (ir_viol**2).sum() + (ic_viol**2).sum())\n",
        "    \n",
        "    loss = rev_loss + penalty + lagrangian\n",
        "    if it % cfg.lag_up_iter == 0:\n",
        "        w_ob.data += pho * ob_viol.data\n",
        "        w_ic.data += pho * ic_viol.data\n",
        "        \n",
        "    if it % cfg.pho_up_iter == 0:\n",
        "        pho += pho_increment\n",
        "        \n",
        "    it += 1\n",
        "\n",
        "    ctrrev += revenue.sum()\n",
        "    ctrob += ob_viol.mean().item()\n",
        "    ctrir += ir_viol.mean().item()\n",
        "    ctric += ic_viol.mean().item()\n",
        "    loss.backward()\n",
        "    if iters % 1000 == 0 and iters != 0:\n",
        "      print(\"[Rev: %.4f], [OB Viol: %.4f], [IR Viol: %.4f], [IC Viol: %.4f]\"%(ctrrev/iters, ctrob/iters, ctrir/iters, ctric/iters))\n",
        "\n",
        "print(\"[Rev: %.4f], [OB Viol: %.4f], [IR Viol: %.4f], [IC Viol: %.4f]\"%(ctrrev/testitr, ctrob/testitr, ctrir/testitr, ctric/testitr))\n"
      ],
      "id": "84aa220f-a73f-40ed-9066-59a44231abe0"
    }
  ],
  "metadata": {
    "accelerator": "GPU",
    "colab": {
      "provenance": []
    },
    "gpuClass": "premium",
    "kernelspec": {
      "display_name": "Python [conda env:.conda-data_markets]",
      "language": "python",
      "name": "conda-env-.conda-data_markets-py"
    },
    "language_info": {
      "codemirror_mode": {
        "name": "ipython",
        "version": 3
      },
      "file_extension": ".py",
      "mimetype": "text/x-python",
      "name": "python",
      "nbconvert_exporter": "python",
      "pygments_lexer": "ipython3",
      "version": "3.8.2"
    }
  },
  "nbformat": 4,
  "nbformat_minor": 5
}